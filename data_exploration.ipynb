{
 "cells": [
  {
   "cell_type": "markdown",
   "metadata": {
    "collapsed": true,
    "pycharm": {
     "name": "#%% md\n"
    }
   },
   "source": [
    "# Data exploration"
   ]
  },
  {
   "cell_type": "markdown",
   "source": [
    "Source of dataset: https://www.kaggle.com/austinreese/craigslist-carstrucks-data"
   ],
   "metadata": {
    "collapsed": false,
    "pycharm": {
     "name": "#%% md\n"
    }
   }
  },
  {
   "cell_type": "code",
   "execution_count": 2,
   "outputs": [],
   "source": [
    "# import modules and set options\n",
    "import pandas as pd\n",
    "import numpy as np\n",
    "import seaborn as sns\n",
    "from datetime import datetime\n",
    "\n",
    "pd.options.display.max_rows = 100 #default = 60\n",
    "sns.set_theme(style=\"whitegrid\")"
   ],
   "metadata": {
    "collapsed": false,
    "pycharm": {
     "name": "#%%\n"
    }
   }
  },
  {
   "cell_type": "code",
   "execution_count": 3,
   "metadata": {
    "pycharm": {
     "name": "#%%\n"
    }
   },
   "outputs": [],
   "source": [
    "# load csv dataset into DataFrame\n",
    "vehicles = pd.read_csv('vehicles.csv', nrows=100000)"
   ]
  },
  {
   "cell_type": "code",
   "execution_count": 4,
   "metadata": {
    "pycharm": {
     "name": "#%%\n"
    }
   },
   "outputs": [
    {
     "name": "stdout",
     "output_type": "stream",
     "text": [
      "<class 'pandas.core.frame.DataFrame'>\n",
      "RangeIndex: 100000 entries, 0 to 99999\n",
      "Data columns (total 26 columns):\n",
      " #   Column        Non-Null Count   Dtype  \n",
      "---  ------        --------------   -----  \n",
      " 0   id            100000 non-null  int64  \n",
      " 1   url           100000 non-null  object \n",
      " 2   region        100000 non-null  object \n",
      " 3   region_url    100000 non-null  object \n",
      " 4   price         100000 non-null  int64  \n",
      " 5   year          99572 non-null   float64\n",
      " 6   manufacturer  95580 non-null   object \n",
      " 7   model         98715 non-null   object \n",
      " 8   condition     61711 non-null   object \n",
      " 9   cylinders     59841 non-null   object \n",
      " 10  fuel          99397 non-null   object \n",
      " 11  odometer      98479 non-null   float64\n",
      " 12  title_status  97721 non-null   object \n",
      " 13  transmission  99486 non-null   object \n",
      " 14  VIN           63962 non-null   object \n",
      " 15  drive         69526 non-null   object \n",
      " 16  size          27846 non-null   object \n",
      " 17  type          80389 non-null   object \n",
      " 18  paint_color   70224 non-null   object \n",
      " 19  image_url     99962 non-null   object \n",
      " 20  description   99961 non-null   object \n",
      " 21  county        0 non-null       float64\n",
      " 22  state         100000 non-null  object \n",
      " 23  lat           99461 non-null   float64\n",
      " 24  long          99461 non-null   float64\n",
      " 25  posting_date  99962 non-null   object \n",
      "dtypes: float64(5), int64(2), object(19)\n",
      "memory usage: 19.8+ MB\n"
     ]
    }
   ],
   "source": [
    "vehicles.info()"
   ]
  },
  {
   "cell_type": "code",
   "execution_count": 5,
   "metadata": {
    "pycharm": {
     "name": "#%%\n"
    }
   },
   "outputs": [
    {
     "data": {
      "text/plain": "               id                                                url  \\\n99995  7309358353  https://jacksonville.craigslist.org/ctd/d/jack...   \n99996  7309358251  https://jacksonville.craigslist.org/ctd/d/jack...   \n99997  7309355294  https://jacksonville.craigslist.org/ctd/d/jack...   \n99998  7309354677  https://jacksonville.craigslist.org/ctd/d/jack...   \n99999  7309345725  https://jacksonville.craigslist.org/ctd/d/1989...   \n\n             region                           region_url  price    year  \\\n99995  jacksonville  https://jacksonville.craigslist.org  49395  2019.0   \n99996  jacksonville  https://jacksonville.craigslist.org  18590  2018.0   \n99997  jacksonville  https://jacksonville.craigslist.org  49495  2019.0   \n99998  jacksonville  https://jacksonville.craigslist.org  24495  2014.0   \n99999  jacksonville  https://jacksonville.craigslist.org  12999  1989.0   \n\n      manufacturer                         model  condition    cylinders  ...  \\\n99995    chevrolet          silverado trail boss        new  8 cylinders  ...   \n99996          kia  sportage lx sport utility 4d       good          NaN  ...   \n99997    chevrolet          silverado trail boss        new  8 cylinders  ...   \n99998    chevrolet         silverado 1500 lt 4x4  excellent  8 cylinders  ...   \n99999         jeep                      wrangler  excellent  4 cylinders  ...   \n\n            size         type paint_color  \\\n99995  full-size       pickup         red   \n99996        NaN        other      silver   \n99997  full-size       pickup         red   \n99998  full-size        truck       white   \n99999    compact  convertible         red   \n\n                                               image_url  \\\n99995  https://images.craigslist.org/00x0x_cg9hmWpOhy...   \n99996  https://images.craigslist.org/00o0o_4QCkqtOcFy...   \n99997  https://images.craigslist.org/00x0x_cg9hmWpOhy...   \n99998  https://images.craigslist.org/00f0f_djNCWjHFxp...   \n99999  https://images.craigslist.org/00v0v_98ytOxORM0...   \n\n                                             description county state  \\\n99995  *** MINT CONDITION *** BRAND NEW 7\" PRO COMP. ...    NaN    fl   \n99996  Carvana is the safer way to buy a car During t...    NaN    fl   \n99997  *** MINT CONDITION *** BRAND NEW 7\" PRO COMP. ...    NaN    fl   \n99998  *** MINT CONDITION *** CLEAN CARFAX - NO ACCID...    NaN    fl   \n99999  ....WE HAVE MANY CLASSIC JEEPS @ EZCustom4x4.c...    NaN    fl   \n\n             lat       long              posting_date  \n99995  30.207288 -81.738969  2021-04-19T13:50:58-0400  \n99996  30.330000 -81.650000  2021-04-19T13:50:50-0400  \n99997  30.207288 -81.738969  2021-04-19T13:46:36-0400  \n99998  30.207288 -81.738969  2021-04-19T13:45:40-0400  \n99999  28.712000 -81.355200  2021-04-19T13:33:00-0400  \n\n[5 rows x 26 columns]",
      "text/html": "<div>\n<style scoped>\n    .dataframe tbody tr th:only-of-type {\n        vertical-align: middle;\n    }\n\n    .dataframe tbody tr th {\n        vertical-align: top;\n    }\n\n    .dataframe thead th {\n        text-align: right;\n    }\n</style>\n<table border=\"1\" class=\"dataframe\">\n  <thead>\n    <tr style=\"text-align: right;\">\n      <th></th>\n      <th>id</th>\n      <th>url</th>\n      <th>region</th>\n      <th>region_url</th>\n      <th>price</th>\n      <th>year</th>\n      <th>manufacturer</th>\n      <th>model</th>\n      <th>condition</th>\n      <th>cylinders</th>\n      <th>...</th>\n      <th>size</th>\n      <th>type</th>\n      <th>paint_color</th>\n      <th>image_url</th>\n      <th>description</th>\n      <th>county</th>\n      <th>state</th>\n      <th>lat</th>\n      <th>long</th>\n      <th>posting_date</th>\n    </tr>\n  </thead>\n  <tbody>\n    <tr>\n      <th>99995</th>\n      <td>7309358353</td>\n      <td>https://jacksonville.craigslist.org/ctd/d/jack...</td>\n      <td>jacksonville</td>\n      <td>https://jacksonville.craigslist.org</td>\n      <td>49395</td>\n      <td>2019.0</td>\n      <td>chevrolet</td>\n      <td>silverado trail boss</td>\n      <td>new</td>\n      <td>8 cylinders</td>\n      <td>...</td>\n      <td>full-size</td>\n      <td>pickup</td>\n      <td>red</td>\n      <td>https://images.craigslist.org/00x0x_cg9hmWpOhy...</td>\n      <td>*** MINT CONDITION *** BRAND NEW 7\" PRO COMP. ...</td>\n      <td>NaN</td>\n      <td>fl</td>\n      <td>30.207288</td>\n      <td>-81.738969</td>\n      <td>2021-04-19T13:50:58-0400</td>\n    </tr>\n    <tr>\n      <th>99996</th>\n      <td>7309358251</td>\n      <td>https://jacksonville.craigslist.org/ctd/d/jack...</td>\n      <td>jacksonville</td>\n      <td>https://jacksonville.craigslist.org</td>\n      <td>18590</td>\n      <td>2018.0</td>\n      <td>kia</td>\n      <td>sportage lx sport utility 4d</td>\n      <td>good</td>\n      <td>NaN</td>\n      <td>...</td>\n      <td>NaN</td>\n      <td>other</td>\n      <td>silver</td>\n      <td>https://images.craigslist.org/00o0o_4QCkqtOcFy...</td>\n      <td>Carvana is the safer way to buy a car During t...</td>\n      <td>NaN</td>\n      <td>fl</td>\n      <td>30.330000</td>\n      <td>-81.650000</td>\n      <td>2021-04-19T13:50:50-0400</td>\n    </tr>\n    <tr>\n      <th>99997</th>\n      <td>7309355294</td>\n      <td>https://jacksonville.craigslist.org/ctd/d/jack...</td>\n      <td>jacksonville</td>\n      <td>https://jacksonville.craigslist.org</td>\n      <td>49495</td>\n      <td>2019.0</td>\n      <td>chevrolet</td>\n      <td>silverado trail boss</td>\n      <td>new</td>\n      <td>8 cylinders</td>\n      <td>...</td>\n      <td>full-size</td>\n      <td>pickup</td>\n      <td>red</td>\n      <td>https://images.craigslist.org/00x0x_cg9hmWpOhy...</td>\n      <td>*** MINT CONDITION *** BRAND NEW 7\" PRO COMP. ...</td>\n      <td>NaN</td>\n      <td>fl</td>\n      <td>30.207288</td>\n      <td>-81.738969</td>\n      <td>2021-04-19T13:46:36-0400</td>\n    </tr>\n    <tr>\n      <th>99998</th>\n      <td>7309354677</td>\n      <td>https://jacksonville.craigslist.org/ctd/d/jack...</td>\n      <td>jacksonville</td>\n      <td>https://jacksonville.craigslist.org</td>\n      <td>24495</td>\n      <td>2014.0</td>\n      <td>chevrolet</td>\n      <td>silverado 1500 lt 4x4</td>\n      <td>excellent</td>\n      <td>8 cylinders</td>\n      <td>...</td>\n      <td>full-size</td>\n      <td>truck</td>\n      <td>white</td>\n      <td>https://images.craigslist.org/00f0f_djNCWjHFxp...</td>\n      <td>*** MINT CONDITION *** CLEAN CARFAX - NO ACCID...</td>\n      <td>NaN</td>\n      <td>fl</td>\n      <td>30.207288</td>\n      <td>-81.738969</td>\n      <td>2021-04-19T13:45:40-0400</td>\n    </tr>\n    <tr>\n      <th>99999</th>\n      <td>7309345725</td>\n      <td>https://jacksonville.craigslist.org/ctd/d/1989...</td>\n      <td>jacksonville</td>\n      <td>https://jacksonville.craigslist.org</td>\n      <td>12999</td>\n      <td>1989.0</td>\n      <td>jeep</td>\n      <td>wrangler</td>\n      <td>excellent</td>\n      <td>4 cylinders</td>\n      <td>...</td>\n      <td>compact</td>\n      <td>convertible</td>\n      <td>red</td>\n      <td>https://images.craigslist.org/00v0v_98ytOxORM0...</td>\n      <td>....WE HAVE MANY CLASSIC JEEPS @ EZCustom4x4.c...</td>\n      <td>NaN</td>\n      <td>fl</td>\n      <td>28.712000</td>\n      <td>-81.355200</td>\n      <td>2021-04-19T13:33:00-0400</td>\n    </tr>\n  </tbody>\n</table>\n<p>5 rows × 26 columns</p>\n</div>"
     },
     "execution_count": 5,
     "metadata": {},
     "output_type": "execute_result"
    }
   ],
   "source": [
    "vehicles.tail()"
   ]
  },
  {
   "cell_type": "markdown",
   "metadata": {},
   "source": [
    "### Remove some columns\n",
    "For now we are not interested in some columns, like for example all hyperlinks (since most of them are expired anyways), as well as all columns that don't have any values like county.\n",
    "For our further data exploration we decide to remove these columns to get a better overview of the data\n",
    "\n",
    "(Keep in mind that we might be able to extract the region from the url, should the dedicated region feature show problems)"
   ]
  },
  {
   "cell_type": "code",
   "execution_count": 6,
   "metadata": {},
   "outputs": [],
   "source": [
    "df = vehicles.drop(['image_url', 'county', 'region_url', 'url', 'id'], axis=1)"
   ]
  },
  {
   "cell_type": "code",
   "execution_count": 7,
   "metadata": {},
   "outputs": [
    {
     "data": {
      "text/plain": "             region  price    year manufacturer                         model  \\\n99995  jacksonville  49395  2019.0    chevrolet          silverado trail boss   \n99996  jacksonville  18590  2018.0          kia  sportage lx sport utility 4d   \n99997  jacksonville  49495  2019.0    chevrolet          silverado trail boss   \n99998  jacksonville  24495  2014.0    chevrolet         silverado 1500 lt 4x4   \n99999  jacksonville  12999  1989.0         jeep                      wrangler   \n\n       condition    cylinders   fuel  odometer title_status  ...  \\\n99995        new  8 cylinders    gas   12700.0        clean  ...   \n99996       good          NaN  other   20005.0        clean  ...   \n99997        new  8 cylinders    gas   12700.0        clean  ...   \n99998  excellent  8 cylinders    gas  100166.0        clean  ...   \n99999  excellent  4 cylinders    gas  111000.0        clean  ...   \n\n                     VIN drive       size         type paint_color  \\\n99995  1GCPYCEF1KZ338219   4wd  full-size       pickup         red   \n99996  KNDPMCACXJ7395729   NaN        NaN        other      silver   \n99997  1GCPYCEF1KZ338219   4wd  full-size       pickup         red   \n99998  1GCVKREC7EZ391819   4wd  full-size        truck       white   \n99999                NaN   4wd    compact  convertible         red   \n\n                                             description state        lat  \\\n99995  *** MINT CONDITION *** BRAND NEW 7\" PRO COMP. ...    fl  30.207288   \n99996  Carvana is the safer way to buy a car During t...    fl  30.330000   \n99997  *** MINT CONDITION *** BRAND NEW 7\" PRO COMP. ...    fl  30.207288   \n99998  *** MINT CONDITION *** CLEAN CARFAX - NO ACCID...    fl  30.207288   \n99999  ....WE HAVE MANY CLASSIC JEEPS @ EZCustom4x4.c...    fl  28.712000   \n\n            long              posting_date  \n99995 -81.738969  2021-04-19T13:50:58-0400  \n99996 -81.650000  2021-04-19T13:50:50-0400  \n99997 -81.738969  2021-04-19T13:46:36-0400  \n99998 -81.738969  2021-04-19T13:45:40-0400  \n99999 -81.355200  2021-04-19T13:33:00-0400  \n\n[5 rows x 21 columns]",
      "text/html": "<div>\n<style scoped>\n    .dataframe tbody tr th:only-of-type {\n        vertical-align: middle;\n    }\n\n    .dataframe tbody tr th {\n        vertical-align: top;\n    }\n\n    .dataframe thead th {\n        text-align: right;\n    }\n</style>\n<table border=\"1\" class=\"dataframe\">\n  <thead>\n    <tr style=\"text-align: right;\">\n      <th></th>\n      <th>region</th>\n      <th>price</th>\n      <th>year</th>\n      <th>manufacturer</th>\n      <th>model</th>\n      <th>condition</th>\n      <th>cylinders</th>\n      <th>fuel</th>\n      <th>odometer</th>\n      <th>title_status</th>\n      <th>...</th>\n      <th>VIN</th>\n      <th>drive</th>\n      <th>size</th>\n      <th>type</th>\n      <th>paint_color</th>\n      <th>description</th>\n      <th>state</th>\n      <th>lat</th>\n      <th>long</th>\n      <th>posting_date</th>\n    </tr>\n  </thead>\n  <tbody>\n    <tr>\n      <th>99995</th>\n      <td>jacksonville</td>\n      <td>49395</td>\n      <td>2019.0</td>\n      <td>chevrolet</td>\n      <td>silverado trail boss</td>\n      <td>new</td>\n      <td>8 cylinders</td>\n      <td>gas</td>\n      <td>12700.0</td>\n      <td>clean</td>\n      <td>...</td>\n      <td>1GCPYCEF1KZ338219</td>\n      <td>4wd</td>\n      <td>full-size</td>\n      <td>pickup</td>\n      <td>red</td>\n      <td>*** MINT CONDITION *** BRAND NEW 7\" PRO COMP. ...</td>\n      <td>fl</td>\n      <td>30.207288</td>\n      <td>-81.738969</td>\n      <td>2021-04-19T13:50:58-0400</td>\n    </tr>\n    <tr>\n      <th>99996</th>\n      <td>jacksonville</td>\n      <td>18590</td>\n      <td>2018.0</td>\n      <td>kia</td>\n      <td>sportage lx sport utility 4d</td>\n      <td>good</td>\n      <td>NaN</td>\n      <td>other</td>\n      <td>20005.0</td>\n      <td>clean</td>\n      <td>...</td>\n      <td>KNDPMCACXJ7395729</td>\n      <td>NaN</td>\n      <td>NaN</td>\n      <td>other</td>\n      <td>silver</td>\n      <td>Carvana is the safer way to buy a car During t...</td>\n      <td>fl</td>\n      <td>30.330000</td>\n      <td>-81.650000</td>\n      <td>2021-04-19T13:50:50-0400</td>\n    </tr>\n    <tr>\n      <th>99997</th>\n      <td>jacksonville</td>\n      <td>49495</td>\n      <td>2019.0</td>\n      <td>chevrolet</td>\n      <td>silverado trail boss</td>\n      <td>new</td>\n      <td>8 cylinders</td>\n      <td>gas</td>\n      <td>12700.0</td>\n      <td>clean</td>\n      <td>...</td>\n      <td>1GCPYCEF1KZ338219</td>\n      <td>4wd</td>\n      <td>full-size</td>\n      <td>pickup</td>\n      <td>red</td>\n      <td>*** MINT CONDITION *** BRAND NEW 7\" PRO COMP. ...</td>\n      <td>fl</td>\n      <td>30.207288</td>\n      <td>-81.738969</td>\n      <td>2021-04-19T13:46:36-0400</td>\n    </tr>\n    <tr>\n      <th>99998</th>\n      <td>jacksonville</td>\n      <td>24495</td>\n      <td>2014.0</td>\n      <td>chevrolet</td>\n      <td>silverado 1500 lt 4x4</td>\n      <td>excellent</td>\n      <td>8 cylinders</td>\n      <td>gas</td>\n      <td>100166.0</td>\n      <td>clean</td>\n      <td>...</td>\n      <td>1GCVKREC7EZ391819</td>\n      <td>4wd</td>\n      <td>full-size</td>\n      <td>truck</td>\n      <td>white</td>\n      <td>*** MINT CONDITION *** CLEAN CARFAX - NO ACCID...</td>\n      <td>fl</td>\n      <td>30.207288</td>\n      <td>-81.738969</td>\n      <td>2021-04-19T13:45:40-0400</td>\n    </tr>\n    <tr>\n      <th>99999</th>\n      <td>jacksonville</td>\n      <td>12999</td>\n      <td>1989.0</td>\n      <td>jeep</td>\n      <td>wrangler</td>\n      <td>excellent</td>\n      <td>4 cylinders</td>\n      <td>gas</td>\n      <td>111000.0</td>\n      <td>clean</td>\n      <td>...</td>\n      <td>NaN</td>\n      <td>4wd</td>\n      <td>compact</td>\n      <td>convertible</td>\n      <td>red</td>\n      <td>....WE HAVE MANY CLASSIC JEEPS @ EZCustom4x4.c...</td>\n      <td>fl</td>\n      <td>28.712000</td>\n      <td>-81.355200</td>\n      <td>2021-04-19T13:33:00-0400</td>\n    </tr>\n  </tbody>\n</table>\n<p>5 rows × 21 columns</p>\n</div>"
     },
     "execution_count": 7,
     "metadata": {},
     "output_type": "execute_result"
    }
   ],
   "source": [
    "df.tail()"
   ]
  },
  {
   "cell_type": "code",
   "execution_count": 8,
   "metadata": {},
   "outputs": [
    {
     "data": {
      "text/plain": "              price          year      odometer           lat          long\ncount  1.000000e+05  99572.000000  9.847900e+04  99461.000000  99461.000000\nmean   1.110640e+05   2010.944261  9.644995e+04     36.794858   -107.618131\nstd    1.471778e+07     10.056314  2.323362e+05      5.975301     18.335293\nmin    0.000000e+00   1900.000000  0.000000e+00    -84.122245   -158.599600\n25%    5.999000e+03   2008.000000  3.665700e+04     33.779214   -120.699752\n50%    1.399500e+04   2013.000000  8.254300e+04     36.400000   -116.359028\n75%    2.599000e+04   2017.000000  1.300000e+05     38.890000    -88.266700\nmax    3.024942e+09   2022.000000  1.000000e+07     82.390818    173.885502",
      "text/html": "<div>\n<style scoped>\n    .dataframe tbody tr th:only-of-type {\n        vertical-align: middle;\n    }\n\n    .dataframe tbody tr th {\n        vertical-align: top;\n    }\n\n    .dataframe thead th {\n        text-align: right;\n    }\n</style>\n<table border=\"1\" class=\"dataframe\">\n  <thead>\n    <tr style=\"text-align: right;\">\n      <th></th>\n      <th>price</th>\n      <th>year</th>\n      <th>odometer</th>\n      <th>lat</th>\n      <th>long</th>\n    </tr>\n  </thead>\n  <tbody>\n    <tr>\n      <th>count</th>\n      <td>1.000000e+05</td>\n      <td>99572.000000</td>\n      <td>9.847900e+04</td>\n      <td>99461.000000</td>\n      <td>99461.000000</td>\n    </tr>\n    <tr>\n      <th>mean</th>\n      <td>1.110640e+05</td>\n      <td>2010.944261</td>\n      <td>9.644995e+04</td>\n      <td>36.794858</td>\n      <td>-107.618131</td>\n    </tr>\n    <tr>\n      <th>std</th>\n      <td>1.471778e+07</td>\n      <td>10.056314</td>\n      <td>2.323362e+05</td>\n      <td>5.975301</td>\n      <td>18.335293</td>\n    </tr>\n    <tr>\n      <th>min</th>\n      <td>0.000000e+00</td>\n      <td>1900.000000</td>\n      <td>0.000000e+00</td>\n      <td>-84.122245</td>\n      <td>-158.599600</td>\n    </tr>\n    <tr>\n      <th>25%</th>\n      <td>5.999000e+03</td>\n      <td>2008.000000</td>\n      <td>3.665700e+04</td>\n      <td>33.779214</td>\n      <td>-120.699752</td>\n    </tr>\n    <tr>\n      <th>50%</th>\n      <td>1.399500e+04</td>\n      <td>2013.000000</td>\n      <td>8.254300e+04</td>\n      <td>36.400000</td>\n      <td>-116.359028</td>\n    </tr>\n    <tr>\n      <th>75%</th>\n      <td>2.599000e+04</td>\n      <td>2017.000000</td>\n      <td>1.300000e+05</td>\n      <td>38.890000</td>\n      <td>-88.266700</td>\n    </tr>\n    <tr>\n      <th>max</th>\n      <td>3.024942e+09</td>\n      <td>2022.000000</td>\n      <td>1.000000e+07</td>\n      <td>82.390818</td>\n      <td>173.885502</td>\n    </tr>\n  </tbody>\n</table>\n</div>"
     },
     "execution_count": 8,
     "metadata": {},
     "output_type": "execute_result"
    }
   ],
   "source": [
    "# Stats of numerical features\n",
    "df.describe(include=[np.number])"
   ]
  },
  {
   "cell_type": "code",
   "execution_count": 9,
   "metadata": {},
   "outputs": [
    {
     "data": {
      "text/plain": "                 region manufacturer  model condition    cylinders   fuel  \\\ncount            100000        95580  98715     61711        59841  99397   \nunique               84           41  12615         6            8      5   \ntop     fresno / madera         ford  f-150      good  6 cylinders    gas   \nfreq               2983        14919   1460     27631        21925  82914   \n\n       title_status transmission                VIN  drive       size   type  \\\ncount         97721        99486              63962  69526      27846  80389   \nunique            6            3              34778      3          4     13   \ntop           clean    automatic  5B4KPD27X83433783    fwd  full-size  sedan   \nfreq          95035        77755                 58  26862      14353  22740   \n\n       paint_color                                        description   state  \\\ncount        70224                                              99961  100000   \nunique          12                                              86285      18   \ntop          white  35 VEHICLES PRICED UNDER $3000!!!  BIG TIME! T...      ca   \nfreq         20575                                                 83   50614   \n\n                    posting_date  \ncount                      99962  \nunique                     94277  \ntop     2021-04-17T17:44:55-0700  \nfreq                           8  ",
      "text/html": "<div>\n<style scoped>\n    .dataframe tbody tr th:only-of-type {\n        vertical-align: middle;\n    }\n\n    .dataframe tbody tr th {\n        vertical-align: top;\n    }\n\n    .dataframe thead th {\n        text-align: right;\n    }\n</style>\n<table border=\"1\" class=\"dataframe\">\n  <thead>\n    <tr style=\"text-align: right;\">\n      <th></th>\n      <th>region</th>\n      <th>manufacturer</th>\n      <th>model</th>\n      <th>condition</th>\n      <th>cylinders</th>\n      <th>fuel</th>\n      <th>title_status</th>\n      <th>transmission</th>\n      <th>VIN</th>\n      <th>drive</th>\n      <th>size</th>\n      <th>type</th>\n      <th>paint_color</th>\n      <th>description</th>\n      <th>state</th>\n      <th>posting_date</th>\n    </tr>\n  </thead>\n  <tbody>\n    <tr>\n      <th>count</th>\n      <td>100000</td>\n      <td>95580</td>\n      <td>98715</td>\n      <td>61711</td>\n      <td>59841</td>\n      <td>99397</td>\n      <td>97721</td>\n      <td>99486</td>\n      <td>63962</td>\n      <td>69526</td>\n      <td>27846</td>\n      <td>80389</td>\n      <td>70224</td>\n      <td>99961</td>\n      <td>100000</td>\n      <td>99962</td>\n    </tr>\n    <tr>\n      <th>unique</th>\n      <td>84</td>\n      <td>41</td>\n      <td>12615</td>\n      <td>6</td>\n      <td>8</td>\n      <td>5</td>\n      <td>6</td>\n      <td>3</td>\n      <td>34778</td>\n      <td>3</td>\n      <td>4</td>\n      <td>13</td>\n      <td>12</td>\n      <td>86285</td>\n      <td>18</td>\n      <td>94277</td>\n    </tr>\n    <tr>\n      <th>top</th>\n      <td>fresno / madera</td>\n      <td>ford</td>\n      <td>f-150</td>\n      <td>good</td>\n      <td>6 cylinders</td>\n      <td>gas</td>\n      <td>clean</td>\n      <td>automatic</td>\n      <td>5B4KPD27X83433783</td>\n      <td>fwd</td>\n      <td>full-size</td>\n      <td>sedan</td>\n      <td>white</td>\n      <td>35 VEHICLES PRICED UNDER $3000!!!  BIG TIME! T...</td>\n      <td>ca</td>\n      <td>2021-04-17T17:44:55-0700</td>\n    </tr>\n    <tr>\n      <th>freq</th>\n      <td>2983</td>\n      <td>14919</td>\n      <td>1460</td>\n      <td>27631</td>\n      <td>21925</td>\n      <td>82914</td>\n      <td>95035</td>\n      <td>77755</td>\n      <td>58</td>\n      <td>26862</td>\n      <td>14353</td>\n      <td>22740</td>\n      <td>20575</td>\n      <td>83</td>\n      <td>50614</td>\n      <td>8</td>\n    </tr>\n  </tbody>\n</table>\n</div>"
     },
     "execution_count": 9,
     "metadata": {},
     "output_type": "execute_result"
    }
   ],
   "source": [
    "# Stats of categorical features\n",
    "df.describe(include=['object'])"
   ]
  },
  {
   "cell_type": "markdown",
   "metadata": {},
   "source": [
    "Next, let's look at some of these features in greater detail..."
   ]
  },
  {
   "cell_type": "markdown",
   "source": [
    "### Categorical data:"
   ],
   "metadata": {
    "collapsed": false,
    "pycharm": {
     "name": "#%% md\n"
    }
   }
  },
  {
   "cell_type": "code",
   "execution_count": 10,
   "metadata": {
    "collapsed": true
   },
   "outputs": [
    {
     "data": {
      "text/plain": "region                  \nfresno / madera             2983\nstockton                    2977\nmodesto                     2973\nsacramento                  2970\nwashington, DC              2970\ntucson                      2969\nphoenix                     2960\nft myers / SW florida       2955\nsan diego                   2953\norange county               2952\ndenver                      2952\ninland empire               2950\nlos angeles                 2937\nSF bay area                 2936\ncolorado springs            2914\nreno / tahoe                2876\nanchorage / mat-su          2742\nhartford                    2564\nbakersfield                 2528\nredding                     2526\nventura county              2518\nfort collins / north CO     2385\njacksonville                2134\npalm springs                1978\nlittle rock                 1841\nyuba-sutter                 1747\nbirmingham                  1647\nnew haven                   1644\ndaytona beach               1633\nchico                       1486\nsan luis obispo             1455\nmonterey bay                1451\nfayetteville                1323\nhuntsville / decatur        1273\nwestern slope               1188\nsanta barbara               1052\ndelaware                     949\ngainesville                  926\nvisalia-tulare               922\nflagstaff / sedona           881\ngold country                 765\nprescott                     746\npueblo                       746\nsanta maria                  740\nboulder                      694\nmerced                       654\nmobile                       626\neastern CT                   583\nmohave county                435\nfairbanks                    427\nmontgomery                   408\nnorthwest CT                 397\nhumboldt county              385\njonesboro                    337\nyuma                         335\nfort smith                   327\ndothan                       325\nimperial county              282\nsierra vista                 241\nmendocino county             238\nkenai peninsula              221\ntexarkana                    210\ngadsden-anniston             207\nflorida keys                 203\nhanford-corcoran             178\nheartland florida            170\nhigh rockies                 169\nflorence / muscle shoals     165\ntuscaloosa                   162\nauburn                       142\nsusanville                   119\nshow low                     112\nsoutheast alaska              84\nsiskiyou county               83\neastern CO                    40\nbellingham                     9\nel paso                        5\nhudson valley                  3\nskagit / island / SJI          2\nerie                           1\nmedford-ashland                1\ngreensboro                     1\nworcester / central MA         1\nla crosse                      1\ndtype: int64"
     },
     "execution_count": 10,
     "metadata": {},
     "output_type": "execute_result"
    }
   ],
   "source": [
    "# Region stats\n",
    "df[['region']].value_counts(normalize=False)"
   ]
  },
  {
   "cell_type": "code",
   "execution_count": 11,
   "metadata": {
    "collapsed": true
   },
   "outputs": [
    {
     "data": {
      "text/plain": "manufacturer   \nford               14919\nchevrolet          11752\ntoyota              9512\nhonda               5627\nnissan              4854\njeep                3998\nbmw                 3773\nram                 3739\nmercedes-benz       3487\ngmc                 3286\ndodge               2956\nhyundai             2617\nvolkswagen          2523\nlexus               2435\nsubaru              2411\nkia                 2157\naudi                1814\nacura               1543\ncadillac            1434\nmazda               1369\nchrysler            1164\ninfiniti            1163\nvolvo                960\nbuick                917\nlincoln              789\nmini                 690\nmitsubishi           640\nrover                598\njaguar               444\nporsche              395\npontiac              330\nfiat                 270\nmercury              243\nalfa-romeo           235\ntesla                233\nsaturn               201\nharley-davidson       42\nferrari               26\ndatsun                21\naston-martin           8\nland rover             5\ndtype: int64"
     },
     "execution_count": 11,
     "metadata": {},
     "output_type": "execute_result"
    }
   ],
   "source": [
    "# manufacturer stats\n",
    "df[['manufacturer']].value_counts(normalize=False)"
   ]
  },
  {
   "cell_type": "code",
   "execution_count": 12,
   "metadata": {},
   "outputs": [
    {
     "data": {
      "text/plain": "condition\ngood         27631\nexcellent    27146\nlike new      4867\nfair          1622\nnew            274\nsalvage        171\ndtype: int64"
     },
     "execution_count": 12,
     "metadata": {},
     "output_type": "execute_result"
    }
   ],
   "source": [
    "# condition stats\n",
    "df[['condition']].value_counts(normalize=False)"
   ]
  },
  {
   "cell_type": "code",
   "execution_count": 13,
   "outputs": [
    {
     "data": {
      "text/plain": "cylinders   \n6 cylinders     21925\n4 cylinders     20001\n8 cylinders     16434\nother             420\n5 cylinders       417\n10 cylinders      393\n3 cylinders       193\n12 cylinders       58\ndtype: int64"
     },
     "execution_count": 13,
     "metadata": {},
     "output_type": "execute_result"
    }
   ],
   "source": [
    "# cylinders stats\n",
    "df[['cylinders']].value_counts(normalize=False)"
   ],
   "metadata": {
    "collapsed": false,
    "pycharm": {
     "name": "#%%\n"
    }
   }
  },
  {
   "cell_type": "code",
   "execution_count": 14,
   "outputs": [
    {
     "data": {
      "text/plain": "fuel    \ngas         82914\nother        7913\ndiesel       6324\nhybrid       1675\nelectric      571\ndtype: int64"
     },
     "execution_count": 14,
     "metadata": {},
     "output_type": "execute_result"
    }
   ],
   "source": [
    "# fuel stats\n",
    "df[['fuel']].value_counts(normalize=False)"
   ],
   "metadata": {
    "collapsed": false,
    "pycharm": {
     "name": "#%%\n"
    }
   }
  },
  {
   "cell_type": "code",
   "execution_count": 15,
   "outputs": [
    {
     "data": {
      "text/plain": "title_status\nclean           95035\nsalvage          1262\nrebuilt           879\nlien              277\nmissing           218\nparts only         50\ndtype: int64"
     },
     "execution_count": 15,
     "metadata": {},
     "output_type": "execute_result"
    }
   ],
   "source": [
    "# title_status stats\n",
    "df[['title_status']].value_counts(normalize=False)"
   ],
   "metadata": {
    "collapsed": false,
    "pycharm": {
     "name": "#%%\n"
    }
   }
  },
  {
   "cell_type": "code",
   "execution_count": 16,
   "outputs": [
    {
     "data": {
      "text/plain": "transmission\nautomatic       77755\nother           15055\nmanual           6676\ndtype: int64"
     },
     "execution_count": 16,
     "metadata": {},
     "output_type": "execute_result"
    }
   ],
   "source": [
    "# transmission stats\n",
    "df[['transmission']].value_counts(normalize=False)"
   ],
   "metadata": {
    "collapsed": false,
    "pycharm": {
     "name": "#%%\n"
    }
   }
  },
  {
   "cell_type": "code",
   "execution_count": 17,
   "outputs": [
    {
     "data": {
      "text/plain": "drive\nfwd      26862\n4wd      26727\nrwd      15937\ndtype: int64"
     },
     "execution_count": 17,
     "metadata": {},
     "output_type": "execute_result"
    }
   ],
   "source": [
    "# drive stats\n",
    "df[['drive']].value_counts(normalize=False)"
   ],
   "metadata": {
    "collapsed": false,
    "pycharm": {
     "name": "#%%\n"
    }
   }
  },
  {
   "cell_type": "code",
   "execution_count": 18,
   "outputs": [
    {
     "data": {
      "text/plain": "size       \nfull-size      14353\nmid-size        7716\ncompact         5020\nsub-compact      757\ndtype: int64"
     },
     "execution_count": 18,
     "metadata": {},
     "output_type": "execute_result"
    }
   ],
   "source": [
    "# size stats\n",
    "df[['size']].value_counts(normalize=False)"
   ],
   "metadata": {
    "collapsed": false,
    "pycharm": {
     "name": "#%%\n"
    }
   }
  },
  {
   "cell_type": "code",
   "execution_count": 19,
   "outputs": [
    {
     "data": {
      "text/plain": "type       \nsedan          22740\nSUV            17161\npickup         10760\ntruck           6283\nother           6045\ncoupe           4711\nhatchback       4602\nwagon           2696\nvan             2077\nconvertible     2039\nmini-van         935\noffroad          231\nbus              109\ndtype: int64"
     },
     "execution_count": 19,
     "metadata": {},
     "output_type": "execute_result"
    }
   ],
   "source": [
    "# type stats\n",
    "df[['type']].value_counts(normalize=False)"
   ],
   "metadata": {
    "collapsed": false,
    "pycharm": {
     "name": "#%%\n"
    }
   }
  },
  {
   "cell_type": "code",
   "execution_count": 20,
   "outputs": [
    {
     "data": {
      "text/plain": "paint_color\nwhite          20575\nblack          13672\nsilver         10808\nblue            6899\nred             6322\ngrey            6108\ncustom          1674\ngreen           1657\nbrown           1479\nyellow           495\norange           393\npurple           142\ndtype: int64"
     },
     "execution_count": 20,
     "metadata": {},
     "output_type": "execute_result"
    }
   ],
   "source": [
    "# paint_color stats\n",
    "df[['paint_color']].value_counts(normalize=False)"
   ],
   "metadata": {
    "collapsed": false,
    "pycharm": {
     "name": "#%%\n"
    }
   }
  },
  {
   "cell_type": "code",
   "execution_count": 21,
   "outputs": [
    {
     "data": {
      "text/plain": "state\nca       50614\nco       11088\naz        8679\nfl        8021\nct        5188\nal        4955\nar        4038\nak        3474\ndc        2970\nde         949\nwa          11\ntx           5\nny           3\nma           1\nnc           1\nor           1\npa           1\nwi           1\ndtype: int64"
     },
     "execution_count": 21,
     "metadata": {},
     "output_type": "execute_result"
    }
   ],
   "source": [
    "# state stats\n",
    "df[['state']].value_counts(normalize=False)"
   ],
   "metadata": {
    "collapsed": false,
    "pycharm": {
     "name": "#%%\n"
    }
   }
  },
  {
   "cell_type": "markdown",
   "source": [
    "### Numerical data:"
   ],
   "metadata": {
    "collapsed": false,
    "pycharm": {
     "name": "#%% md\n"
    }
   }
  },
  {
   "cell_type": "code",
   "execution_count": 22,
   "outputs": [
    {
     "data": {
      "text/plain": "year  \n2018.0    8656\n2017.0    8586\n2015.0    7309\n2013.0    7155\n2016.0    6996\n          ... \n1922.0       1\n1918.0       1\n1916.0       1\n1913.0       1\n1901.0       1\nLength: 104, dtype: int64"
     },
     "execution_count": 22,
     "metadata": {},
     "output_type": "execute_result"
    }
   ],
   "source": [
    "# year stats\n",
    "df[['year']].value_counts(normalize=False)"
   ],
   "metadata": {
    "collapsed": false,
    "pycharm": {
     "name": "#%%\n"
    }
   }
  },
  {
   "cell_type": "code",
   "execution_count": 23,
   "outputs": [
    {
     "data": {
      "text/plain": "<Figure size 432x288 with 1 Axes>",
      "image/png": "[encoded data removed]"
     },
     "metadata": {},
     "output_type": "display_data"
    }
   ],
   "source": [
    "ax = sns.boxplot(x=df[\"year\"])"
   ],
   "metadata": {
    "collapsed": false,
    "pycharm": {
     "name": "#%%\n"
    }
   }
  },
  {
   "cell_type": "markdown",
   "source": [
    "As we can see, for feature **'year'** there is a negative skew as the offers on older cars become increasingly rarer"
   ],
   "metadata": {
    "collapsed": false,
    "pycharm": {
     "name": "#%% md\n"
    }
   }
  },
  {
   "cell_type": "code",
   "execution_count": 24,
   "outputs": [
    {
     "data": {
      "text/plain": "<Figure size 432x288 with 1 Axes>",
      "image/png": "[encoded data removed]"
     },
     "metadata": {},
     "output_type": "display_data"
    }
   ],
   "source": [
    "ax = sns.boxplot(x=df[\"price\"])"
   ],
   "metadata": {
    "collapsed": false,
    "pycharm": {
     "name": "#%%\n"
    }
   }
  },
  {
   "cell_type": "markdown",
   "source": [
    "The **'price'** feature is highly positively skewed.\n",
    "\n",
    "Both skews need to be taken into account when modelling as non-normal distributed data can have significant impact on model quality"
   ],
   "metadata": {
    "collapsed": false,
    "pycharm": {
     "name": "#%% md\n"
    }
   }
  },
  {
   "cell_type": "markdown",
   "source": [
    "### Date"
   ],
   "metadata": {
    "collapsed": false,
    "pycharm": {
     "name": "#%% md\n"
    }
   }
  },
  {
   "cell_type": "code",
   "execution_count": 25,
   "outputs": [],
   "source": [
    "# posting_date\n",
    "posting_date = df['posting_date'] #not a copy, but a slice of out dataframe"
   ],
   "metadata": {
    "collapsed": false,
    "pycharm": {
     "name": "#%%\n"
    }
   }
  },
  {
   "cell_type": "markdown",
   "source": [
    "Posting dates are still of type string, which serve limited value for our analysis. First we need to convert these entries into a datetime value, before proceeding with our analysis."
   ],
   "metadata": {
    "collapsed": false,
    "pycharm": {
     "name": "#%% md\n"
    }
   }
  },
  {
   "cell_type": "markdown",
   "source": [
    "Let's convert all strings to the appropriate datetime format:"
   ],
   "metadata": {
    "collapsed": false,
    "pycharm": {
     "name": "#%% md\n"
    }
   }
  },
  {
   "cell_type": "code",
   "execution_count": 26,
   "outputs": [
    {
     "name": "stderr",
     "output_type": "stream",
     "text": [
      "C:\\Users\\Sebastian\\anaconda3\\envs\\mobile\\lib\\site-packages\\pandas\\core\\indexing.py:1732: SettingWithCopyWarning: \n",
      "A value is trying to be set on a copy of a slice from a DataFrame\n",
      "\n",
      "See the caveats in the documentation: https://pandas.pydata.org/pandas-docs/stable/user_guide/indexing.html#returning-a-view-versus-a-copy\n",
      "  self._setitem_single_block(indexer, value, name)\n"
     ]
    }
   ],
   "source": [
    "for i, elem in enumerate(posting_date):\n",
    "    if type(elem) != float: # if not NaN\n",
    "        datetime_elem = datetime.strptime(elem, '%Y-%m-%dT%H:%M:%S%z') #datetime format\n",
    "        posting_date.iloc[i] = datetime_elem"
   ],
   "metadata": {
    "collapsed": false,
    "pycharm": {
     "name": "#%%\n"
    }
   }
  },
  {
   "cell_type": "markdown",
   "source": [
    "Having converted our dates, we now can extract specific datetime elements and work with them"
   ],
   "metadata": {
    "collapsed": false,
    "pycharm": {
     "name": "#%% md\n"
    }
   }
  },
  {
   "cell_type": "code",
   "execution_count": 31,
   "outputs": [
    {
     "data": {
      "text/plain": "<AxesSubplot:xlabel='posting_date', ylabel='Count'>"
     },
     "execution_count": 31,
     "metadata": {},
     "output_type": "execute_result"
    },
    {
     "data": {
      "text/plain": "<Figure size 432x288 with 1 Axes>",
      "image/png": "[encoded data removed]"
     },
     "metadata": {},
     "output_type": "display_data"
    }
   ],
   "source": [
    "sns.histplot(x=df[\"posting_date\"])"
   ],
   "metadata": {
    "collapsed": false,
    "pycharm": {
     "name": "#%%\n"
    }
   }
  },
  {
   "cell_type": "code",
   "execution_count": 35,
   "outputs": [
    {
     "name": "stdout",
     "output_type": "stream",
     "text": [
      "2021-04-04 01:10:23-06:00\n",
      "2021-05-04 17:22:17-04:00\n"
     ]
    }
   ],
   "source": [
    "print(min(df['posting_date'].dropna()))\n",
    "print(max(df['posting_date'].dropna()))"
   ],
   "metadata": {
    "collapsed": false,
    "pycharm": {
     "name": "#%%\n"
    }
   }
  },
  {
   "cell_type": "markdown",
   "source": [
    "It is seen in the histogram that there is a higher amount of recent offers\n",
    "\n",
    "When displaying the min and max value it can be seen that this dataset has a submission time-window of one month"
   ],
   "metadata": {
    "collapsed": false,
    "pycharm": {
     "name": "#%% md\n"
    }
   }
  }
 ],
 "metadata": {
  "kernelspec": {
   "display_name": "Python 3 (ipykernel)",
   "language": "python",
   "name": "python3"
  },
  "language_info": {
   "codemirror_mode": {
    "name": "ipython",
    "version": 3
   },
   "file_extension": ".py",
   "mimetype": "text/x-python",
   "name": "python",
   "nbconvert_exporter": "python",
   "pygments_lexer": "ipython3",
   "version": "3.9.7"
  }
 },
 "nbformat": 4,
 "nbformat_minor": 1
}