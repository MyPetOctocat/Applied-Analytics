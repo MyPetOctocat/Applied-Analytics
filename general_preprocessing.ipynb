{
  "nbformat": 4,
  "nbformat_minor": 0,
  "metadata": {
    "colab": {
      "name": "general_preprocessing.ipynb",
      "provenance": [],
      "collapsed_sections": [
        "v1fYLu5ZB8f6",
        "jn7zIYh9cKtL"
      ]
    },
    "kernelspec": {
      "name": "python3",
      "display_name": "Python 3"
    },
    "language_info": {
      "name": "python"
    }
  },
  "cells": [
    {
      "cell_type": "markdown",
      "source": [
        "# Setup"
      ],
      "metadata": {
        "id": "v1fYLu5ZB8f6"
      }
    },
    {
      "cell_type": "code",
      "execution_count": 1,
      "metadata": {
        "colab": {
          "base_uri": "https://localhost:8080/"
        },
        "id": "VyZKMSB0BpjW",
        "outputId": "88dadd9c-9df0-4c02-decf-30b957d97d9b"
      },
      "outputs": [
        {
          "output_type": "stream",
          "name": "stdout",
          "text": [
            "Drive already mounted at /content/gdrive; to attempt to forcibly remount, call drive.mount(\"/content/gdrive\", force_remount=True).\n",
            "/content/gdrive/My Drive/Kaggle\n"
          ]
        }
      ],
      "source": [
        "from google.colab import drive\n",
        "import os\n",
        "\n",
        "# skip, if not running on Google Colab\n",
        "drive.mount('/content/gdrive')\n",
        "\n",
        "os.environ['KAGGLE_CONFIG_DIR'] = \"/content/gdrive/My Drive/Kaggle\"\n",
        "\n",
        "# /content/gdrive/My Drive/Kaggle is the path where kaggle.json is present in the Google Drive\n",
        "#changing the working directory\n",
        "%cd /content/gdrive/My Drive/Kaggle"
      ]
    },
    {
      "cell_type": "code",
      "source": [
        "# import modules and set options\n",
        "import pandas as pd\n",
        "import numpy as np\n",
        "import seaborn as sns\n",
        "from datetime import datetime\n",
        "import matplotlib.pyplot as plt\n",
        "from sklearn.impute import SimpleImputer\n",
        "from sklearn.experimental import enable_iterative_imputer\n",
        "from sklearn.impute import IterativeImputer\n",
        "\n",
        "pd.options.display.max_rows = 100 #default = 60\n",
        "sns.set_theme(style=\"whitegrid\")"
      ],
      "metadata": {
        "id": "HfTwAhuWCKPW"
      },
      "execution_count": 2,
      "outputs": []
    },
    {
      "cell_type": "code",
      "source": [
        "# load csv dataset into DataFrame\n",
        "df = pd.read_csv('vehicles.csv')"
      ],
      "metadata": {
        "id": "WJrtg_hlCX2x"
      },
      "execution_count": 3,
      "outputs": []
    },
    {
      "cell_type": "code",
      "source": [
        "# sneak peek on data\n",
        "df.head()"
      ],
      "metadata": {
        "colab": {
          "base_uri": "https://localhost:8080/",
          "height": 305
        },
        "id": "3xUiD7V6Ceky",
        "outputId": "2251ad65-7543-4c8a-e209-4c6cb6007601"
      },
      "execution_count": 4,
      "outputs": [
        {
          "output_type": "execute_result",
          "data": {
            "text/html": [
              "\n",
              "  <div id=\"df-d23cddcf-a5ac-4754-b533-0e2703276f34\">\n",
              "    <div class=\"colab-df-container\">\n",
              "      <div>\n",
              "<style scoped>\n",
              "    .dataframe tbody tr th:only-of-type {\n",
              "        vertical-align: middle;\n",
              "    }\n",
              "\n",
              "    .dataframe tbody tr th {\n",
              "        vertical-align: top;\n",
              "    }\n",
              "\n",
              "    .dataframe thead th {\n",
              "        text-align: right;\n",
              "    }\n",
              "</style>\n",
              "<table border=\"1\" class=\"dataframe\">\n",
              "  <thead>\n",
              "    <tr style=\"text-align: right;\">\n",
              "      <th></th>\n",
              "      <th>id</th>\n",
              "      <th>url</th>\n",
              "      <th>region</th>\n",
              "      <th>region_url</th>\n",
              "      <th>price</th>\n",
              "      <th>year</th>\n",
              "      <th>manufacturer</th>\n",
              "      <th>model</th>\n",
              "      <th>condition</th>\n",
              "      <th>cylinders</th>\n",
              "      <th>fuel</th>\n",
              "      <th>odometer</th>\n",
              "      <th>title_status</th>\n",
              "      <th>transmission</th>\n",
              "      <th>VIN</th>\n",
              "      <th>drive</th>\n",
              "      <th>size</th>\n",
              "      <th>type</th>\n",
              "      <th>paint_color</th>\n",
              "      <th>image_url</th>\n",
              "      <th>description</th>\n",
              "      <th>county</th>\n",
              "      <th>state</th>\n",
              "      <th>lat</th>\n",
              "      <th>long</th>\n",
              "      <th>posting_date</th>\n",
              "    </tr>\n",
              "  </thead>\n",
              "  <tbody>\n",
              "    <tr>\n",
              "      <th>0</th>\n",
              "      <td>7222695916</td>\n",
              "      <td>https://prescott.craigslist.org/cto/d/prescott...</td>\n",
              "      <td>prescott</td>\n",
              "      <td>https://prescott.craigslist.org</td>\n",
              "      <td>6000</td>\n",
              "      <td>NaN</td>\n",
              "      <td>NaN</td>\n",
              "      <td>NaN</td>\n",
              "      <td>NaN</td>\n",
              "      <td>NaN</td>\n",
              "      <td>NaN</td>\n",
              "      <td>NaN</td>\n",
              "      <td>NaN</td>\n",
              "      <td>NaN</td>\n",
              "      <td>NaN</td>\n",
              "      <td>NaN</td>\n",
              "      <td>NaN</td>\n",
              "      <td>NaN</td>\n",
              "      <td>NaN</td>\n",
              "      <td>NaN</td>\n",
              "      <td>NaN</td>\n",
              "      <td>NaN</td>\n",
              "      <td>az</td>\n",
              "      <td>NaN</td>\n",
              "      <td>NaN</td>\n",
              "      <td>NaN</td>\n",
              "    </tr>\n",
              "    <tr>\n",
              "      <th>1</th>\n",
              "      <td>7218891961</td>\n",
              "      <td>https://fayar.craigslist.org/ctd/d/bentonville...</td>\n",
              "      <td>fayetteville</td>\n",
              "      <td>https://fayar.craigslist.org</td>\n",
              "      <td>11900</td>\n",
              "      <td>NaN</td>\n",
              "      <td>NaN</td>\n",
              "      <td>NaN</td>\n",
              "      <td>NaN</td>\n",
              "      <td>NaN</td>\n",
              "      <td>NaN</td>\n",
              "      <td>NaN</td>\n",
              "      <td>NaN</td>\n",
              "      <td>NaN</td>\n",
              "      <td>NaN</td>\n",
              "      <td>NaN</td>\n",
              "      <td>NaN</td>\n",
              "      <td>NaN</td>\n",
              "      <td>NaN</td>\n",
              "      <td>NaN</td>\n",
              "      <td>NaN</td>\n",
              "      <td>NaN</td>\n",
              "      <td>ar</td>\n",
              "      <td>NaN</td>\n",
              "      <td>NaN</td>\n",
              "      <td>NaN</td>\n",
              "    </tr>\n",
              "    <tr>\n",
              "      <th>2</th>\n",
              "      <td>7221797935</td>\n",
              "      <td>https://keys.craigslist.org/cto/d/summerland-k...</td>\n",
              "      <td>florida keys</td>\n",
              "      <td>https://keys.craigslist.org</td>\n",
              "      <td>21000</td>\n",
              "      <td>NaN</td>\n",
              "      <td>NaN</td>\n",
              "      <td>NaN</td>\n",
              "      <td>NaN</td>\n",
              "      <td>NaN</td>\n",
              "      <td>NaN</td>\n",
              "      <td>NaN</td>\n",
              "      <td>NaN</td>\n",
              "      <td>NaN</td>\n",
              "      <td>NaN</td>\n",
              "      <td>NaN</td>\n",
              "      <td>NaN</td>\n",
              "      <td>NaN</td>\n",
              "      <td>NaN</td>\n",
              "      <td>NaN</td>\n",
              "      <td>NaN</td>\n",
              "      <td>NaN</td>\n",
              "      <td>fl</td>\n",
              "      <td>NaN</td>\n",
              "      <td>NaN</td>\n",
              "      <td>NaN</td>\n",
              "    </tr>\n",
              "    <tr>\n",
              "      <th>3</th>\n",
              "      <td>7222270760</td>\n",
              "      <td>https://worcester.craigslist.org/cto/d/west-br...</td>\n",
              "      <td>worcester / central MA</td>\n",
              "      <td>https://worcester.craigslist.org</td>\n",
              "      <td>1500</td>\n",
              "      <td>NaN</td>\n",
              "      <td>NaN</td>\n",
              "      <td>NaN</td>\n",
              "      <td>NaN</td>\n",
              "      <td>NaN</td>\n",
              "      <td>NaN</td>\n",
              "      <td>NaN</td>\n",
              "      <td>NaN</td>\n",
              "      <td>NaN</td>\n",
              "      <td>NaN</td>\n",
              "      <td>NaN</td>\n",
              "      <td>NaN</td>\n",
              "      <td>NaN</td>\n",
              "      <td>NaN</td>\n",
              "      <td>NaN</td>\n",
              "      <td>NaN</td>\n",
              "      <td>NaN</td>\n",
              "      <td>ma</td>\n",
              "      <td>NaN</td>\n",
              "      <td>NaN</td>\n",
              "      <td>NaN</td>\n",
              "    </tr>\n",
              "    <tr>\n",
              "      <th>4</th>\n",
              "      <td>7210384030</td>\n",
              "      <td>https://greensboro.craigslist.org/cto/d/trinit...</td>\n",
              "      <td>greensboro</td>\n",
              "      <td>https://greensboro.craigslist.org</td>\n",
              "      <td>4900</td>\n",
              "      <td>NaN</td>\n",
              "      <td>NaN</td>\n",
              "      <td>NaN</td>\n",
              "      <td>NaN</td>\n",
              "      <td>NaN</td>\n",
              "      <td>NaN</td>\n",
              "      <td>NaN</td>\n",
              "      <td>NaN</td>\n",
              "      <td>NaN</td>\n",
              "      <td>NaN</td>\n",
              "      <td>NaN</td>\n",
              "      <td>NaN</td>\n",
              "      <td>NaN</td>\n",
              "      <td>NaN</td>\n",
              "      <td>NaN</td>\n",
              "      <td>NaN</td>\n",
              "      <td>NaN</td>\n",
              "      <td>nc</td>\n",
              "      <td>NaN</td>\n",
              "      <td>NaN</td>\n",
              "      <td>NaN</td>\n",
              "    </tr>\n",
              "  </tbody>\n",
              "</table>\n",
              "</div>\n",
              "      <button class=\"colab-df-convert\" onclick=\"convertToInteractive('df-d23cddcf-a5ac-4754-b533-0e2703276f34')\"\n",
              "              title=\"Convert this dataframe to an interactive table.\"\n",
              "              style=\"display:none;\">\n",
              "        \n",
              "  <svg xmlns=\"http://www.w3.org/2000/svg\" height=\"24px\"viewBox=\"0 0 24 24\"\n",
              "       width=\"24px\">\n",
              "    <path d=\"M0 0h24v24H0V0z\" fill=\"none\"/>\n",
              "    <path d=\"M18.56 5.44l.94 2.06.94-2.06 2.06-.94-2.06-.94-.94-2.06-.94 2.06-2.06.94zm-11 1L8.5 8.5l.94-2.06 2.06-.94-2.06-.94L8.5 2.5l-.94 2.06-2.06.94zm10 10l.94 2.06.94-2.06 2.06-.94-2.06-.94-.94-2.06-.94 2.06-2.06.94z\"/><path d=\"M17.41 7.96l-1.37-1.37c-.4-.4-.92-.59-1.43-.59-.52 0-1.04.2-1.43.59L10.3 9.45l-7.72 7.72c-.78.78-.78 2.05 0 2.83L4 21.41c.39.39.9.59 1.41.59.51 0 1.02-.2 1.41-.59l7.78-7.78 2.81-2.81c.8-.78.8-2.07 0-2.86zM5.41 20L4 18.59l7.72-7.72 1.47 1.35L5.41 20z\"/>\n",
              "  </svg>\n",
              "      </button>\n",
              "      \n",
              "  <style>\n",
              "    .colab-df-container {\n",
              "      display:flex;\n",
              "      flex-wrap:wrap;\n",
              "      gap: 12px;\n",
              "    }\n",
              "\n",
              "    .colab-df-convert {\n",
              "      background-color: #E8F0FE;\n",
              "      border: none;\n",
              "      border-radius: 50%;\n",
              "      cursor: pointer;\n",
              "      display: none;\n",
              "      fill: #1967D2;\n",
              "      height: 32px;\n",
              "      padding: 0 0 0 0;\n",
              "      width: 32px;\n",
              "    }\n",
              "\n",
              "    .colab-df-convert:hover {\n",
              "      background-color: #E2EBFA;\n",
              "      box-shadow: 0px 1px 2px rgba(60, 64, 67, 0.3), 0px 1px 3px 1px rgba(60, 64, 67, 0.15);\n",
              "      fill: #174EA6;\n",
              "    }\n",
              "\n",
              "    [theme=dark] .colab-df-convert {\n",
              "      background-color: #3B4455;\n",
              "      fill: #D2E3FC;\n",
              "    }\n",
              "\n",
              "    [theme=dark] .colab-df-convert:hover {\n",
              "      background-color: #434B5C;\n",
              "      box-shadow: 0px 1px 3px 1px rgba(0, 0, 0, 0.15);\n",
              "      filter: drop-shadow(0px 1px 2px rgba(0, 0, 0, 0.3));\n",
              "      fill: #FFFFFF;\n",
              "    }\n",
              "  </style>\n",
              "\n",
              "      <script>\n",
              "        const buttonEl =\n",
              "          document.querySelector('#df-d23cddcf-a5ac-4754-b533-0e2703276f34 button.colab-df-convert');\n",
              "        buttonEl.style.display =\n",
              "          google.colab.kernel.accessAllowed ? 'block' : 'none';\n",
              "\n",
              "        async function convertToInteractive(key) {\n",
              "          const element = document.querySelector('#df-d23cddcf-a5ac-4754-b533-0e2703276f34');\n",
              "          const dataTable =\n",
              "            await google.colab.kernel.invokeFunction('convertToInteractive',\n",
              "                                                     [key], {});\n",
              "          if (!dataTable) return;\n",
              "\n",
              "          const docLinkHtml = 'Like what you see? Visit the ' +\n",
              "            '<a target=\"_blank\" href=https://colab.research.google.com/notebooks/data_table.ipynb>data table notebook</a>'\n",
              "            + ' to learn more about interactive tables.';\n",
              "          element.innerHTML = '';\n",
              "          dataTable['output_type'] = 'display_data';\n",
              "          await google.colab.output.renderOutput(dataTable, element);\n",
              "          const docLink = document.createElement('div');\n",
              "          docLink.innerHTML = docLinkHtml;\n",
              "          element.appendChild(docLink);\n",
              "        }\n",
              "      </script>\n",
              "    </div>\n",
              "  </div>\n",
              "  "
            ],
            "text/plain": [
              "           id  ... posting_date\n",
              "0  7222695916  ...          NaN\n",
              "1  7218891961  ...          NaN\n",
              "2  7221797935  ...          NaN\n",
              "3  7222270760  ...          NaN\n",
              "4  7210384030  ...          NaN\n",
              "\n",
              "[5 rows x 26 columns]"
            ]
          },
          "metadata": {},
          "execution_count": 4
        }
      ]
    },
    {
      "cell_type": "markdown",
      "source": [
        "# Preliminary Feature selection"
      ],
      "metadata": {
        "id": "jn7zIYh9cKtL"
      }
    },
    {
      "cell_type": "markdown",
      "source": [
        "- **County** has no values, hence can be removed.\n",
        "- Features like **image_url**, **url**, **VIN** and **id**, **description** can be removed as well as they don't serve any analytical purpose for this project.\n",
        "- Redundant features can be removed as well. E.g. **region_url** contains the same information as region\n",
        "- **Posting_date** will be removed as the conversion from string to a date or unix timestamp format is not feasable with over 400k submissions. We'll make the assumption that the submission date has no relationship with the other features."
      ],
      "metadata": {
        "id": "kmrIcaQ4tdof"
      }
    },
    {
      "cell_type": "code",
      "source": [
        "df = df.drop(['county', 'image_url', 'url', 'VIN', 'id', 'region_url', 'description', 'posting_date'], axis=1)\n",
        "df.head()"
      ],
      "metadata": {
        "colab": {
          "base_uri": "https://localhost:8080/",
          "height": 0
        },
        "id": "zNGA-Rmhurlg",
        "outputId": "2492adc5-72d8-4fa1-8ecc-318706176f2d"
      },
      "execution_count": 5,
      "outputs": [
        {
          "output_type": "execute_result",
          "data": {
            "text/html": [
              "\n",
              "  <div id=\"df-3171b863-bff8-4c24-b3b6-72056643c57a\">\n",
              "    <div class=\"colab-df-container\">\n",
              "      <div>\n",
              "<style scoped>\n",
              "    .dataframe tbody tr th:only-of-type {\n",
              "        vertical-align: middle;\n",
              "    }\n",
              "\n",
              "    .dataframe tbody tr th {\n",
              "        vertical-align: top;\n",
              "    }\n",
              "\n",
              "    .dataframe thead th {\n",
              "        text-align: right;\n",
              "    }\n",
              "</style>\n",
              "<table border=\"1\" class=\"dataframe\">\n",
              "  <thead>\n",
              "    <tr style=\"text-align: right;\">\n",
              "      <th></th>\n",
              "      <th>region</th>\n",
              "      <th>price</th>\n",
              "      <th>year</th>\n",
              "      <th>manufacturer</th>\n",
              "      <th>model</th>\n",
              "      <th>condition</th>\n",
              "      <th>cylinders</th>\n",
              "      <th>fuel</th>\n",
              "      <th>odometer</th>\n",
              "      <th>title_status</th>\n",
              "      <th>transmission</th>\n",
              "      <th>drive</th>\n",
              "      <th>size</th>\n",
              "      <th>type</th>\n",
              "      <th>paint_color</th>\n",
              "      <th>state</th>\n",
              "      <th>lat</th>\n",
              "      <th>long</th>\n",
              "    </tr>\n",
              "  </thead>\n",
              "  <tbody>\n",
              "    <tr>\n",
              "      <th>0</th>\n",
              "      <td>prescott</td>\n",
              "      <td>6000</td>\n",
              "      <td>NaN</td>\n",
              "      <td>NaN</td>\n",
              "      <td>NaN</td>\n",
              "      <td>NaN</td>\n",
              "      <td>NaN</td>\n",
              "      <td>NaN</td>\n",
              "      <td>NaN</td>\n",
              "      <td>NaN</td>\n",
              "      <td>NaN</td>\n",
              "      <td>NaN</td>\n",
              "      <td>NaN</td>\n",
              "      <td>NaN</td>\n",
              "      <td>NaN</td>\n",
              "      <td>az</td>\n",
              "      <td>NaN</td>\n",
              "      <td>NaN</td>\n",
              "    </tr>\n",
              "    <tr>\n",
              "      <th>1</th>\n",
              "      <td>fayetteville</td>\n",
              "      <td>11900</td>\n",
              "      <td>NaN</td>\n",
              "      <td>NaN</td>\n",
              "      <td>NaN</td>\n",
              "      <td>NaN</td>\n",
              "      <td>NaN</td>\n",
              "      <td>NaN</td>\n",
              "      <td>NaN</td>\n",
              "      <td>NaN</td>\n",
              "      <td>NaN</td>\n",
              "      <td>NaN</td>\n",
              "      <td>NaN</td>\n",
              "      <td>NaN</td>\n",
              "      <td>NaN</td>\n",
              "      <td>ar</td>\n",
              "      <td>NaN</td>\n",
              "      <td>NaN</td>\n",
              "    </tr>\n",
              "    <tr>\n",
              "      <th>2</th>\n",
              "      <td>florida keys</td>\n",
              "      <td>21000</td>\n",
              "      <td>NaN</td>\n",
              "      <td>NaN</td>\n",
              "      <td>NaN</td>\n",
              "      <td>NaN</td>\n",
              "      <td>NaN</td>\n",
              "      <td>NaN</td>\n",
              "      <td>NaN</td>\n",
              "      <td>NaN</td>\n",
              "      <td>NaN</td>\n",
              "      <td>NaN</td>\n",
              "      <td>NaN</td>\n",
              "      <td>NaN</td>\n",
              "      <td>NaN</td>\n",
              "      <td>fl</td>\n",
              "      <td>NaN</td>\n",
              "      <td>NaN</td>\n",
              "    </tr>\n",
              "    <tr>\n",
              "      <th>3</th>\n",
              "      <td>worcester / central MA</td>\n",
              "      <td>1500</td>\n",
              "      <td>NaN</td>\n",
              "      <td>NaN</td>\n",
              "      <td>NaN</td>\n",
              "      <td>NaN</td>\n",
              "      <td>NaN</td>\n",
              "      <td>NaN</td>\n",
              "      <td>NaN</td>\n",
              "      <td>NaN</td>\n",
              "      <td>NaN</td>\n",
              "      <td>NaN</td>\n",
              "      <td>NaN</td>\n",
              "      <td>NaN</td>\n",
              "      <td>NaN</td>\n",
              "      <td>ma</td>\n",
              "      <td>NaN</td>\n",
              "      <td>NaN</td>\n",
              "    </tr>\n",
              "    <tr>\n",
              "      <th>4</th>\n",
              "      <td>greensboro</td>\n",
              "      <td>4900</td>\n",
              "      <td>NaN</td>\n",
              "      <td>NaN</td>\n",
              "      <td>NaN</td>\n",
              "      <td>NaN</td>\n",
              "      <td>NaN</td>\n",
              "      <td>NaN</td>\n",
              "      <td>NaN</td>\n",
              "      <td>NaN</td>\n",
              "      <td>NaN</td>\n",
              "      <td>NaN</td>\n",
              "      <td>NaN</td>\n",
              "      <td>NaN</td>\n",
              "      <td>NaN</td>\n",
              "      <td>nc</td>\n",
              "      <td>NaN</td>\n",
              "      <td>NaN</td>\n",
              "    </tr>\n",
              "  </tbody>\n",
              "</table>\n",
              "</div>\n",
              "      <button class=\"colab-df-convert\" onclick=\"convertToInteractive('df-3171b863-bff8-4c24-b3b6-72056643c57a')\"\n",
              "              title=\"Convert this dataframe to an interactive table.\"\n",
              "              style=\"display:none;\">\n",
              "        \n",
              "  <svg xmlns=\"http://www.w3.org/2000/svg\" height=\"24px\"viewBox=\"0 0 24 24\"\n",
              "       width=\"24px\">\n",
              "    <path d=\"M0 0h24v24H0V0z\" fill=\"none\"/>\n",
              "    <path d=\"M18.56 5.44l.94 2.06.94-2.06 2.06-.94-2.06-.94-.94-2.06-.94 2.06-2.06.94zm-11 1L8.5 8.5l.94-2.06 2.06-.94-2.06-.94L8.5 2.5l-.94 2.06-2.06.94zm10 10l.94 2.06.94-2.06 2.06-.94-2.06-.94-.94-2.06-.94 2.06-2.06.94z\"/><path d=\"M17.41 7.96l-1.37-1.37c-.4-.4-.92-.59-1.43-.59-.52 0-1.04.2-1.43.59L10.3 9.45l-7.72 7.72c-.78.78-.78 2.05 0 2.83L4 21.41c.39.39.9.59 1.41.59.51 0 1.02-.2 1.41-.59l7.78-7.78 2.81-2.81c.8-.78.8-2.07 0-2.86zM5.41 20L4 18.59l7.72-7.72 1.47 1.35L5.41 20z\"/>\n",
              "  </svg>\n",
              "      </button>\n",
              "      \n",
              "  <style>\n",
              "    .colab-df-container {\n",
              "      display:flex;\n",
              "      flex-wrap:wrap;\n",
              "      gap: 12px;\n",
              "    }\n",
              "\n",
              "    .colab-df-convert {\n",
              "      background-color: #E8F0FE;\n",
              "      border: none;\n",
              "      border-radius: 50%;\n",
              "      cursor: pointer;\n",
              "      display: none;\n",
              "      fill: #1967D2;\n",
              "      height: 32px;\n",
              "      padding: 0 0 0 0;\n",
              "      width: 32px;\n",
              "    }\n",
              "\n",
              "    .colab-df-convert:hover {\n",
              "      background-color: #E2EBFA;\n",
              "      box-shadow: 0px 1px 2px rgba(60, 64, 67, 0.3), 0px 1px 3px 1px rgba(60, 64, 67, 0.15);\n",
              "      fill: #174EA6;\n",
              "    }\n",
              "\n",
              "    [theme=dark] .colab-df-convert {\n",
              "      background-color: #3B4455;\n",
              "      fill: #D2E3FC;\n",
              "    }\n",
              "\n",
              "    [theme=dark] .colab-df-convert:hover {\n",
              "      background-color: #434B5C;\n",
              "      box-shadow: 0px 1px 3px 1px rgba(0, 0, 0, 0.15);\n",
              "      filter: drop-shadow(0px 1px 2px rgba(0, 0, 0, 0.3));\n",
              "      fill: #FFFFFF;\n",
              "    }\n",
              "  </style>\n",
              "\n",
              "      <script>\n",
              "        const buttonEl =\n",
              "          document.querySelector('#df-3171b863-bff8-4c24-b3b6-72056643c57a button.colab-df-convert');\n",
              "        buttonEl.style.display =\n",
              "          google.colab.kernel.accessAllowed ? 'block' : 'none';\n",
              "\n",
              "        async function convertToInteractive(key) {\n",
              "          const element = document.querySelector('#df-3171b863-bff8-4c24-b3b6-72056643c57a');\n",
              "          const dataTable =\n",
              "            await google.colab.kernel.invokeFunction('convertToInteractive',\n",
              "                                                     [key], {});\n",
              "          if (!dataTable) return;\n",
              "\n",
              "          const docLinkHtml = 'Like what you see? Visit the ' +\n",
              "            '<a target=\"_blank\" href=https://colab.research.google.com/notebooks/data_table.ipynb>data table notebook</a>'\n",
              "            + ' to learn more about interactive tables.';\n",
              "          element.innerHTML = '';\n",
              "          dataTable['output_type'] = 'display_data';\n",
              "          await google.colab.output.renderOutput(dataTable, element);\n",
              "          const docLink = document.createElement('div');\n",
              "          docLink.innerHTML = docLinkHtml;\n",
              "          element.appendChild(docLink);\n",
              "        }\n",
              "      </script>\n",
              "    </div>\n",
              "  </div>\n",
              "  "
            ],
            "text/plain": [
              "                   region  price  year  ... state lat long\n",
              "0                prescott   6000   NaN  ...    az NaN  NaN\n",
              "1            fayetteville  11900   NaN  ...    ar NaN  NaN\n",
              "2            florida keys  21000   NaN  ...    fl NaN  NaN\n",
              "3  worcester / central MA   1500   NaN  ...    ma NaN  NaN\n",
              "4              greensboro   4900   NaN  ...    nc NaN  NaN\n",
              "\n",
              "[5 rows x 18 columns]"
            ]
          },
          "metadata": {},
          "execution_count": 5
        }
      ]
    },
    {
      "cell_type": "markdown",
      "source": [
        "# Handling of Missing Values"
      ],
      "metadata": {
        "id": "rq0VNBs4zxHe"
      }
    },
    {
      "cell_type": "code",
      "source": [
        "# recap of missing value heat map\n",
        "sns.heatmap(df.isnull(), \n",
        "            yticklabels=False,\n",
        "            cbar=False, \n",
        "            cmap='viridis');"
      ],
      "metadata": {
        "id": "VCqUbz7edL12",
        "colab": {
          "base_uri": "https://localhost:8080/",
          "height": 0
        },
        "outputId": "552eb977-7079-4a10-b80c-ea251c4c109f"
      },
      "execution_count": 6,
      "outputs": [
        {
          "output_type": "display_data",
          "data": {
            "image/png": "[encoded data removed]",
            "text/plain": [
              "<Figure size 432x288 with 1 Axes>"
            ]
          },
          "metadata": {}
        }
      ]
    },
    {
      "cell_type": "code",
      "source": [
        "# calculate percentage of missing values per column\n",
        "percent_missing = df.isnull().sum() * 100 / len(df)\n",
        "missing_value_df = pd.DataFrame({'column_name': df.columns,\n",
        "                                 'percent_missing': percent_missing,\n",
        "                                 'missing_values': df.isnull().sum()}\n",
        "                                )\n",
        "missing_value_df.sort_values(['percent_missing'], ascending=False).transpose()"
      ],
      "metadata": {
        "colab": {
          "base_uri": "https://localhost:8080/",
          "height": 0
        },
        "id": "N2m9qEs2yBFr",
        "outputId": "bf588bec-8dad-4407-d679-10d3b34fa5ed"
      },
      "execution_count": 7,
      "outputs": [
        {
          "output_type": "execute_result",
          "data": {
            "text/html": [
              "\n",
              "  <div id=\"df-5dd568b8-00c3-4678-87e3-3220ad1ab5e6\">\n",
              "    <div class=\"colab-df-container\">\n",
              "      <div>\n",
              "<style scoped>\n",
              "    .dataframe tbody tr th:only-of-type {\n",
              "        vertical-align: middle;\n",
              "    }\n",
              "\n",
              "    .dataframe tbody tr th {\n",
              "        vertical-align: top;\n",
              "    }\n",
              "\n",
              "    .dataframe thead th {\n",
              "        text-align: right;\n",
              "    }\n",
              "</style>\n",
              "<table border=\"1\" class=\"dataframe\">\n",
              "  <thead>\n",
              "    <tr style=\"text-align: right;\">\n",
              "      <th></th>\n",
              "      <th>size</th>\n",
              "      <th>cylinders</th>\n",
              "      <th>condition</th>\n",
              "      <th>drive</th>\n",
              "      <th>paint_color</th>\n",
              "      <th>type</th>\n",
              "      <th>manufacturer</th>\n",
              "      <th>title_status</th>\n",
              "      <th>lat</th>\n",
              "      <th>long</th>\n",
              "      <th>model</th>\n",
              "      <th>odometer</th>\n",
              "      <th>fuel</th>\n",
              "      <th>transmission</th>\n",
              "      <th>year</th>\n",
              "      <th>price</th>\n",
              "      <th>state</th>\n",
              "      <th>region</th>\n",
              "    </tr>\n",
              "  </thead>\n",
              "  <tbody>\n",
              "    <tr>\n",
              "      <th>column_name</th>\n",
              "      <td>size</td>\n",
              "      <td>cylinders</td>\n",
              "      <td>condition</td>\n",
              "      <td>drive</td>\n",
              "      <td>paint_color</td>\n",
              "      <td>type</td>\n",
              "      <td>manufacturer</td>\n",
              "      <td>title_status</td>\n",
              "      <td>lat</td>\n",
              "      <td>long</td>\n",
              "      <td>model</td>\n",
              "      <td>odometer</td>\n",
              "      <td>fuel</td>\n",
              "      <td>transmission</td>\n",
              "      <td>year</td>\n",
              "      <td>price</td>\n",
              "      <td>state</td>\n",
              "      <td>region</td>\n",
              "    </tr>\n",
              "    <tr>\n",
              "      <th>percent_missing</th>\n",
              "      <td>71.7675</td>\n",
              "      <td>41.6225</td>\n",
              "      <td>40.7852</td>\n",
              "      <td>30.5863</td>\n",
              "      <td>30.5011</td>\n",
              "      <td>21.7527</td>\n",
              "      <td>4.13371</td>\n",
              "      <td>1.93075</td>\n",
              "      <td>1.53415</td>\n",
              "      <td>1.53415</td>\n",
              "      <td>1.23618</td>\n",
              "      <td>1.03073</td>\n",
              "      <td>0.705819</td>\n",
              "      <td>0.598763</td>\n",
              "      <td>0.282281</td>\n",
              "      <td>0</td>\n",
              "      <td>0</td>\n",
              "      <td>0</td>\n",
              "    </tr>\n",
              "    <tr>\n",
              "      <th>missing_values</th>\n",
              "      <td>306361</td>\n",
              "      <td>177678</td>\n",
              "      <td>174104</td>\n",
              "      <td>130567</td>\n",
              "      <td>130203</td>\n",
              "      <td>92858</td>\n",
              "      <td>17646</td>\n",
              "      <td>8242</td>\n",
              "      <td>6549</td>\n",
              "      <td>6549</td>\n",
              "      <td>5277</td>\n",
              "      <td>4400</td>\n",
              "      <td>3013</td>\n",
              "      <td>2556</td>\n",
              "      <td>1205</td>\n",
              "      <td>0</td>\n",
              "      <td>0</td>\n",
              "      <td>0</td>\n",
              "    </tr>\n",
              "  </tbody>\n",
              "</table>\n",
              "</div>\n",
              "      <button class=\"colab-df-convert\" onclick=\"convertToInteractive('df-5dd568b8-00c3-4678-87e3-3220ad1ab5e6')\"\n",
              "              title=\"Convert this dataframe to an interactive table.\"\n",
              "              style=\"display:none;\">\n",
              "        \n",
              "  <svg xmlns=\"http://www.w3.org/2000/svg\" height=\"24px\"viewBox=\"0 0 24 24\"\n",
              "       width=\"24px\">\n",
              "    <path d=\"M0 0h24v24H0V0z\" fill=\"none\"/>\n",
              "    <path d=\"M18.56 5.44l.94 2.06.94-2.06 2.06-.94-2.06-.94-.94-2.06-.94 2.06-2.06.94zm-11 1L8.5 8.5l.94-2.06 2.06-.94-2.06-.94L8.5 2.5l-.94 2.06-2.06.94zm10 10l.94 2.06.94-2.06 2.06-.94-2.06-.94-.94-2.06-.94 2.06-2.06.94z\"/><path d=\"M17.41 7.96l-1.37-1.37c-.4-.4-.92-.59-1.43-.59-.52 0-1.04.2-1.43.59L10.3 9.45l-7.72 7.72c-.78.78-.78 2.05 0 2.83L4 21.41c.39.39.9.59 1.41.59.51 0 1.02-.2 1.41-.59l7.78-7.78 2.81-2.81c.8-.78.8-2.07 0-2.86zM5.41 20L4 18.59l7.72-7.72 1.47 1.35L5.41 20z\"/>\n",
              "  </svg>\n",
              "      </button>\n",
              "      \n",
              "  <style>\n",
              "    .colab-df-container {\n",
              "      display:flex;\n",
              "      flex-wrap:wrap;\n",
              "      gap: 12px;\n",
              "    }\n",
              "\n",
              "    .colab-df-convert {\n",
              "      background-color: #E8F0FE;\n",
              "      border: none;\n",
              "      border-radius: 50%;\n",
              "      cursor: pointer;\n",
              "      display: none;\n",
              "      fill: #1967D2;\n",
              "      height: 32px;\n",
              "      padding: 0 0 0 0;\n",
              "      width: 32px;\n",
              "    }\n",
              "\n",
              "    .colab-df-convert:hover {\n",
              "      background-color: #E2EBFA;\n",
              "      box-shadow: 0px 1px 2px rgba(60, 64, 67, 0.3), 0px 1px 3px 1px rgba(60, 64, 67, 0.15);\n",
              "      fill: #174EA6;\n",
              "    }\n",
              "\n",
              "    [theme=dark] .colab-df-convert {\n",
              "      background-color: #3B4455;\n",
              "      fill: #D2E3FC;\n",
              "    }\n",
              "\n",
              "    [theme=dark] .colab-df-convert:hover {\n",
              "      background-color: #434B5C;\n",
              "      box-shadow: 0px 1px 3px 1px rgba(0, 0, 0, 0.15);\n",
              "      filter: drop-shadow(0px 1px 2px rgba(0, 0, 0, 0.3));\n",
              "      fill: #FFFFFF;\n",
              "    }\n",
              "  </style>\n",
              "\n",
              "      <script>\n",
              "        const buttonEl =\n",
              "          document.querySelector('#df-5dd568b8-00c3-4678-87e3-3220ad1ab5e6 button.colab-df-convert');\n",
              "        buttonEl.style.display =\n",
              "          google.colab.kernel.accessAllowed ? 'block' : 'none';\n",
              "\n",
              "        async function convertToInteractive(key) {\n",
              "          const element = document.querySelector('#df-5dd568b8-00c3-4678-87e3-3220ad1ab5e6');\n",
              "          const dataTable =\n",
              "            await google.colab.kernel.invokeFunction('convertToInteractive',\n",
              "                                                     [key], {});\n",
              "          if (!dataTable) return;\n",
              "\n",
              "          const docLinkHtml = 'Like what you see? Visit the ' +\n",
              "            '<a target=\"_blank\" href=https://colab.research.google.com/notebooks/data_table.ipynb>data table notebook</a>'\n",
              "            + ' to learn more about interactive tables.';\n",
              "          element.innerHTML = '';\n",
              "          dataTable['output_type'] = 'display_data';\n",
              "          await google.colab.output.renderOutput(dataTable, element);\n",
              "          const docLink = document.createElement('div');\n",
              "          docLink.innerHTML = docLinkHtml;\n",
              "          element.appendChild(docLink);\n",
              "        }\n",
              "      </script>\n",
              "    </div>\n",
              "  </div>\n",
              "  "
            ],
            "text/plain": [
              "                    size  cylinders  condition  ...  price  state  region\n",
              "column_name         size  cylinders  condition  ...  price  state  region\n",
              "percent_missing  71.7675    41.6225    40.7852  ...      0      0       0\n",
              "missing_values    306361     177678     174104  ...      0      0       0\n",
              "\n",
              "[3 rows x 18 columns]"
            ]
          },
          "metadata": {},
          "execution_count": 7
        }
      ]
    },
    {
      "cell_type": "markdown",
      "source": [
        "This dataset contains a lot of missing values, in one feature it even exceeds a quota of 70%!\n",
        "\n",
        "This confronts us with a dilemma: We either sacrifice a large portion of our data to maintain a complete dataset or we heavily impute/interpolate our dataset to 'fill in the blanks'. The latter option is especially risky when there are a lot of missing values in one column.\n",
        "\n",
        "The goal should be to strike a balance between both options.\n",
        "\n",
        "In the previous task we established that the data does seem to be missing at random, excluding VIN, which has been removed anyway. We could statistically check for values completly at random with Little's MCAR test, but as with the datetime conversion, it wouldn't be feasible to do with this large dataset, Also, the MCAR test works best with numerical data, since it's calculated with mean values. Since the majority of missing values are in the categorical features, the MCAR-test probably wouldn't perform very well.\n",
        "\n",
        "In short, since we didn't implement any MCAR test, we'll proceed with the assumption that values are MCAR (missing completly at random)."
      ],
      "metadata": {
        "id": "XgkRxXaL2YsB"
      }
    },
    {
      "cell_type": "markdown",
      "source": [
        "## Removing and Imputing missing values"
      ],
      "metadata": {
        "id": "oI5j06iwV9GZ"
      }
    },
    {
      "cell_type": "markdown",
      "source": [
        "As mentioned above, we need to strike a balance between removing and imputing values. It's not benificial for example to impute features that are missing in a large portion of the data, as the imputed values can heavily skew this feature. At the same time we want to retain as large of a dataset as possible to have a large enough set to run our training.\n",
        "\n",
        "Since we have a very large dataset with MCAR values, removing a large portion of our dataset would still leave us with a large enough dataset to work with.\n",
        "Another alternative would be to simply remove the features with a lot of missing values, like 'size', or 'cylinders' for example. These features could pose as important for our modeling later on though, which is the reason why we wouldn't want to remove them."
      ],
      "metadata": {
        "id": "aaIjwIkwQyIB"
      }
    },
    {
      "cell_type": "markdown",
      "source": [
        "### The plan\n",
        "1. Rows with missing values in features with > 5% will be removed\n",
        "2. The remaining data of the features with < 5% of missing values will be imputed\n",
        "\n",
        "Reference will be the row count of the data when indiscriminately removing every missing value"
      ],
      "metadata": {
        "id": "JsRqXIYrWYxy"
      }
    },
    {
      "cell_type": "code",
      "source": [
        "# row count after dropping every missing value\n",
        "df_no_mv = df.dropna()\n",
        "df_no_mv.shape[0]"
      ],
      "metadata": {
        "colab": {
          "base_uri": "https://localhost:8080/"
        },
        "id": "uCcZIMtrvnIx",
        "outputId": "feb81e90-fdca-4922-ec4b-2b63e62b37c7"
      },
      "execution_count": 8,
      "outputs": [
        {
          "output_type": "execute_result",
          "data": {
            "text/plain": [
              "79016"
            ]
          },
          "metadata": {},
          "execution_count": 8
        }
      ]
    },
    {
      "cell_type": "markdown",
      "source": [
        "### Removing MVs (> 5%)"
      ],
      "metadata": {
        "id": "bYJQKfe5hZav"
      }
    },
    {
      "cell_type": "code",
      "source": [
        "df_impute = df.dropna(subset=['size', 'cylinders', 'condition', 'drive', 'paint_color', 'type'])\n",
        "df_impute.shape[0]"
      ],
      "metadata": {
        "colab": {
          "base_uri": "https://localhost:8080/"
        },
        "id": "MpKZBtEWdSP-",
        "outputId": "0bfa42dd-9998-490e-c575-33a7dae35278"
      },
      "execution_count": 9,
      "outputs": [
        {
          "output_type": "execute_result",
          "data": {
            "text/plain": [
              "84651"
            ]
          },
          "metadata": {},
          "execution_count": 9
        }
      ]
    },
    {
      "cell_type": "markdown",
      "source": [
        "We gained about 5000 entries by only removing features with a significant amount of missing values. Still, less than a quarter of the previous data remains. Since the difference between deleting all missing values and only removing a portion didn't result in a drastic difference in rows, we could also continue with the completly cleansed dataset, as we wouldn't have to worry about the impact imputation could have on the modeling.\n",
        "\n",
        "For now, we'll consider both datasets with and without imputation."
      ],
      "metadata": {
        "id": "viRkOQNGhnw1"
      }
    },
    {
      "cell_type": "code",
      "source": [
        "# calculate percentage of missing values per column\n",
        "percent_missing = df_impute.isnull().sum() * 100 / len(df_impute)\n",
        "missing_value_df = pd.DataFrame({'column_name': df_impute.columns,\n",
        "                                 'percent_missing': percent_missing,\n",
        "                                 'missing_values': df_impute.isnull().sum()}\n",
        "                                )\n",
        "missing_value_df.sort_values(['percent_missing'], ascending=False).transpose()"
      ],
      "metadata": {
        "colab": {
          "base_uri": "https://localhost:8080/",
          "height": 0
        },
        "id": "kYFCfqiX1k5L",
        "outputId": "98213adc-5e00-4ac4-98cb-4493b4e73a0e"
      },
      "execution_count": 10,
      "outputs": [
        {
          "output_type": "execute_result",
          "data": {
            "text/html": [
              "\n",
              "  <div id=\"df-82567e02-ed35-48f9-b275-3ae74b9101e8\">\n",
              "    <div class=\"colab-df-container\">\n",
              "      <div>\n",
              "<style scoped>\n",
              "    .dataframe tbody tr th:only-of-type {\n",
              "        vertical-align: middle;\n",
              "    }\n",
              "\n",
              "    .dataframe tbody tr th {\n",
              "        vertical-align: top;\n",
              "    }\n",
              "\n",
              "    .dataframe thead th {\n",
              "        text-align: right;\n",
              "    }\n",
              "</style>\n",
              "<table border=\"1\" class=\"dataframe\">\n",
              "  <thead>\n",
              "    <tr style=\"text-align: right;\">\n",
              "      <th></th>\n",
              "      <th>manufacturer</th>\n",
              "      <th>model</th>\n",
              "      <th>odometer</th>\n",
              "      <th>long</th>\n",
              "      <th>lat</th>\n",
              "      <th>transmission</th>\n",
              "      <th>drive</th>\n",
              "      <th>state</th>\n",
              "      <th>paint_color</th>\n",
              "      <th>type</th>\n",
              "      <th>size</th>\n",
              "      <th>region</th>\n",
              "      <th>price</th>\n",
              "      <th>fuel</th>\n",
              "      <th>cylinders</th>\n",
              "      <th>condition</th>\n",
              "      <th>year</th>\n",
              "      <th>title_status</th>\n",
              "    </tr>\n",
              "  </thead>\n",
              "  <tbody>\n",
              "    <tr>\n",
              "      <th>column_name</th>\n",
              "      <td>manufacturer</td>\n",
              "      <td>model</td>\n",
              "      <td>odometer</td>\n",
              "      <td>long</td>\n",
              "      <td>lat</td>\n",
              "      <td>transmission</td>\n",
              "      <td>drive</td>\n",
              "      <td>state</td>\n",
              "      <td>paint_color</td>\n",
              "      <td>type</td>\n",
              "      <td>size</td>\n",
              "      <td>region</td>\n",
              "      <td>price</td>\n",
              "      <td>fuel</td>\n",
              "      <td>cylinders</td>\n",
              "      <td>condition</td>\n",
              "      <td>year</td>\n",
              "      <td>title_status</td>\n",
              "    </tr>\n",
              "    <tr>\n",
              "      <th>percent_missing</th>\n",
              "      <td>4.79853</td>\n",
              "      <td>1.15179</td>\n",
              "      <td>0.485523</td>\n",
              "      <td>0.229176</td>\n",
              "      <td>0.229176</td>\n",
              "      <td>0.0129945</td>\n",
              "      <td>0</td>\n",
              "      <td>0</td>\n",
              "      <td>0</td>\n",
              "      <td>0</td>\n",
              "      <td>0</td>\n",
              "      <td>0</td>\n",
              "      <td>0</td>\n",
              "      <td>0</td>\n",
              "      <td>0</td>\n",
              "      <td>0</td>\n",
              "      <td>0</td>\n",
              "      <td>0</td>\n",
              "    </tr>\n",
              "    <tr>\n",
              "      <th>missing_values</th>\n",
              "      <td>4062</td>\n",
              "      <td>975</td>\n",
              "      <td>411</td>\n",
              "      <td>194</td>\n",
              "      <td>194</td>\n",
              "      <td>11</td>\n",
              "      <td>0</td>\n",
              "      <td>0</td>\n",
              "      <td>0</td>\n",
              "      <td>0</td>\n",
              "      <td>0</td>\n",
              "      <td>0</td>\n",
              "      <td>0</td>\n",
              "      <td>0</td>\n",
              "      <td>0</td>\n",
              "      <td>0</td>\n",
              "      <td>0</td>\n",
              "      <td>0</td>\n",
              "    </tr>\n",
              "  </tbody>\n",
              "</table>\n",
              "</div>\n",
              "      <button class=\"colab-df-convert\" onclick=\"convertToInteractive('df-82567e02-ed35-48f9-b275-3ae74b9101e8')\"\n",
              "              title=\"Convert this dataframe to an interactive table.\"\n",
              "              style=\"display:none;\">\n",
              "        \n",
              "  <svg xmlns=\"http://www.w3.org/2000/svg\" height=\"24px\"viewBox=\"0 0 24 24\"\n",
              "       width=\"24px\">\n",
              "    <path d=\"M0 0h24v24H0V0z\" fill=\"none\"/>\n",
              "    <path d=\"M18.56 5.44l.94 2.06.94-2.06 2.06-.94-2.06-.94-.94-2.06-.94 2.06-2.06.94zm-11 1L8.5 8.5l.94-2.06 2.06-.94-2.06-.94L8.5 2.5l-.94 2.06-2.06.94zm10 10l.94 2.06.94-2.06 2.06-.94-2.06-.94-.94-2.06-.94 2.06-2.06.94z\"/><path d=\"M17.41 7.96l-1.37-1.37c-.4-.4-.92-.59-1.43-.59-.52 0-1.04.2-1.43.59L10.3 9.45l-7.72 7.72c-.78.78-.78 2.05 0 2.83L4 21.41c.39.39.9.59 1.41.59.51 0 1.02-.2 1.41-.59l7.78-7.78 2.81-2.81c.8-.78.8-2.07 0-2.86zM5.41 20L4 18.59l7.72-7.72 1.47 1.35L5.41 20z\"/>\n",
              "  </svg>\n",
              "      </button>\n",
              "      \n",
              "  <style>\n",
              "    .colab-df-container {\n",
              "      display:flex;\n",
              "      flex-wrap:wrap;\n",
              "      gap: 12px;\n",
              "    }\n",
              "\n",
              "    .colab-df-convert {\n",
              "      background-color: #E8F0FE;\n",
              "      border: none;\n",
              "      border-radius: 50%;\n",
              "      cursor: pointer;\n",
              "      display: none;\n",
              "      fill: #1967D2;\n",
              "      height: 32px;\n",
              "      padding: 0 0 0 0;\n",
              "      width: 32px;\n",
              "    }\n",
              "\n",
              "    .colab-df-convert:hover {\n",
              "      background-color: #E2EBFA;\n",
              "      box-shadow: 0px 1px 2px rgba(60, 64, 67, 0.3), 0px 1px 3px 1px rgba(60, 64, 67, 0.15);\n",
              "      fill: #174EA6;\n",
              "    }\n",
              "\n",
              "    [theme=dark] .colab-df-convert {\n",
              "      background-color: #3B4455;\n",
              "      fill: #D2E3FC;\n",
              "    }\n",
              "\n",
              "    [theme=dark] .colab-df-convert:hover {\n",
              "      background-color: #434B5C;\n",
              "      box-shadow: 0px 1px 3px 1px rgba(0, 0, 0, 0.15);\n",
              "      filter: drop-shadow(0px 1px 2px rgba(0, 0, 0, 0.3));\n",
              "      fill: #FFFFFF;\n",
              "    }\n",
              "  </style>\n",
              "\n",
              "      <script>\n",
              "        const buttonEl =\n",
              "          document.querySelector('#df-82567e02-ed35-48f9-b275-3ae74b9101e8 button.colab-df-convert');\n",
              "        buttonEl.style.display =\n",
              "          google.colab.kernel.accessAllowed ? 'block' : 'none';\n",
              "\n",
              "        async function convertToInteractive(key) {\n",
              "          const element = document.querySelector('#df-82567e02-ed35-48f9-b275-3ae74b9101e8');\n",
              "          const dataTable =\n",
              "            await google.colab.kernel.invokeFunction('convertToInteractive',\n",
              "                                                     [key], {});\n",
              "          if (!dataTable) return;\n",
              "\n",
              "          const docLinkHtml = 'Like what you see? Visit the ' +\n",
              "            '<a target=\"_blank\" href=https://colab.research.google.com/notebooks/data_table.ipynb>data table notebook</a>'\n",
              "            + ' to learn more about interactive tables.';\n",
              "          element.innerHTML = '';\n",
              "          dataTable['output_type'] = 'display_data';\n",
              "          await google.colab.output.renderOutput(dataTable, element);\n",
              "          const docLink = document.createElement('div');\n",
              "          docLink.innerHTML = docLinkHtml;\n",
              "          element.appendChild(docLink);\n",
              "        }\n",
              "      </script>\n",
              "    </div>\n",
              "  </div>\n",
              "  "
            ],
            "text/plain": [
              "                 manufacturer    model  odometer  ...  condition  year  title_status\n",
              "column_name      manufacturer    model  odometer  ...  condition  year  title_status\n",
              "percent_missing       4.79853  1.15179  0.485523  ...          0     0             0\n",
              "missing_values           4062      975       411  ...          0     0             0\n",
              "\n",
              "[3 rows x 18 columns]"
            ]
          },
          "metadata": {},
          "execution_count": 10
        }
      ]
    },
    {
      "cell_type": "markdown",
      "source": [
        "Almost 5% of the dataset has a missing manufacturer. That's every 20th datapoint that is missing this information. Imputing the manufacturer is troublesome since there is a large set to choose from. Imputing the most frequent manufacturer would most certainly result in a mismatch. Same goes for model, which has a much lower percentage of MVs though.\n",
        "\n",
        "This problem could partially be solved by using a fuzzy matching approach on manufacturer and model.\n",
        "Since many adverts have their manufacturer written in the model column, we could scan this column for a match and apply the manufacturer for the respective match."
      ],
      "metadata": {
        "id": "q6rksbsw3_nQ"
      }
    },
    {
      "cell_type": "code",
      "source": [
        "df_impute[df_impute['manufacturer'].isnull()]"
      ],
      "metadata": {
        "colab": {
          "base_uri": "https://localhost:8080/",
          "height": 0
        },
        "id": "9GgIIHsb7zEL",
        "outputId": "1bf165d1-3cac-4f09-addf-4fb5ecee19ee"
      },
      "execution_count": 11,
      "outputs": [
        {
          "output_type": "execute_result",
          "data": {
            "text/html": [
              "\n",
              "  <div id=\"df-39e441d3-442d-43fa-9844-72928a65f1d5\">\n",
              "    <div class=\"colab-df-container\">\n",
              "      <div>\n",
              "<style scoped>\n",
              "    .dataframe tbody tr th:only-of-type {\n",
              "        vertical-align: middle;\n",
              "    }\n",
              "\n",
              "    .dataframe tbody tr th {\n",
              "        vertical-align: top;\n",
              "    }\n",
              "\n",
              "    .dataframe thead th {\n",
              "        text-align: right;\n",
              "    }\n",
              "</style>\n",
              "<table border=\"1\" class=\"dataframe\">\n",
              "  <thead>\n",
              "    <tr style=\"text-align: right;\">\n",
              "      <th></th>\n",
              "      <th>region</th>\n",
              "      <th>price</th>\n",
              "      <th>year</th>\n",
              "      <th>manufacturer</th>\n",
              "      <th>model</th>\n",
              "      <th>condition</th>\n",
              "      <th>cylinders</th>\n",
              "      <th>fuel</th>\n",
              "      <th>odometer</th>\n",
              "      <th>title_status</th>\n",
              "      <th>transmission</th>\n",
              "      <th>drive</th>\n",
              "      <th>size</th>\n",
              "      <th>type</th>\n",
              "      <th>paint_color</th>\n",
              "      <th>state</th>\n",
              "      <th>lat</th>\n",
              "      <th>long</th>\n",
              "    </tr>\n",
              "  </thead>\n",
              "  <tbody>\n",
              "    <tr>\n",
              "      <th>122</th>\n",
              "      <td>auburn</td>\n",
              "      <td>6800</td>\n",
              "      <td>2005.0</td>\n",
              "      <td>NaN</td>\n",
              "      <td>blue bird bus</td>\n",
              "      <td>excellent</td>\n",
              "      <td>6 cylinders</td>\n",
              "      <td>diesel</td>\n",
              "      <td>180000.0</td>\n",
              "      <td>clean</td>\n",
              "      <td>automatic</td>\n",
              "      <td>rwd</td>\n",
              "      <td>full-size</td>\n",
              "      <td>bus</td>\n",
              "      <td>yellow</td>\n",
              "      <td>al</td>\n",
              "      <td>32.833700</td>\n",
              "      <td>-85.119700</td>\n",
              "    </tr>\n",
              "    <tr>\n",
              "      <th>137</th>\n",
              "      <td>auburn</td>\n",
              "      <td>2500</td>\n",
              "      <td>1966.0</td>\n",
              "      <td>NaN</td>\n",
              "      <td>1966 C-30 1 ton</td>\n",
              "      <td>good</td>\n",
              "      <td>6 cylinders</td>\n",
              "      <td>gas</td>\n",
              "      <td>47000.0</td>\n",
              "      <td>clean</td>\n",
              "      <td>manual</td>\n",
              "      <td>rwd</td>\n",
              "      <td>full-size</td>\n",
              "      <td>pickup</td>\n",
              "      <td>brown</td>\n",
              "      <td>al</td>\n",
              "      <td>32.416900</td>\n",
              "      <td>-85.709400</td>\n",
              "    </tr>\n",
              "    <tr>\n",
              "      <th>264</th>\n",
              "      <td>birmingham</td>\n",
              "      <td>2500</td>\n",
              "      <td>1987.0</td>\n",
              "      <td>NaN</td>\n",
              "      <td>1987 Saab 900 Turbo</td>\n",
              "      <td>fair</td>\n",
              "      <td>4 cylinders</td>\n",
              "      <td>gas</td>\n",
              "      <td>125000.0</td>\n",
              "      <td>clean</td>\n",
              "      <td>manual</td>\n",
              "      <td>fwd</td>\n",
              "      <td>mid-size</td>\n",
              "      <td>coupe</td>\n",
              "      <td>silver</td>\n",
              "      <td>al</td>\n",
              "      <td>33.293200</td>\n",
              "      <td>-86.768000</td>\n",
              "    </tr>\n",
              "    <tr>\n",
              "      <th>374</th>\n",
              "      <td>birmingham</td>\n",
              "      <td>9900</td>\n",
              "      <td>2016.0</td>\n",
              "      <td>NaN</td>\n",
              "      <td>scion ia</td>\n",
              "      <td>excellent</td>\n",
              "      <td>4 cylinders</td>\n",
              "      <td>gas</td>\n",
              "      <td>21000.0</td>\n",
              "      <td>clean</td>\n",
              "      <td>automatic</td>\n",
              "      <td>fwd</td>\n",
              "      <td>compact</td>\n",
              "      <td>sedan</td>\n",
              "      <td>blue</td>\n",
              "      <td>al</td>\n",
              "      <td>33.867300</td>\n",
              "      <td>-84.769900</td>\n",
              "    </tr>\n",
              "    <tr>\n",
              "      <th>401</th>\n",
              "      <td>birmingham</td>\n",
              "      <td>6800</td>\n",
              "      <td>2005.0</td>\n",
              "      <td>NaN</td>\n",
              "      <td>blue bird bus</td>\n",
              "      <td>excellent</td>\n",
              "      <td>6 cylinders</td>\n",
              "      <td>diesel</td>\n",
              "      <td>180000.0</td>\n",
              "      <td>clean</td>\n",
              "      <td>automatic</td>\n",
              "      <td>rwd</td>\n",
              "      <td>full-size</td>\n",
              "      <td>bus</td>\n",
              "      <td>yellow</td>\n",
              "      <td>al</td>\n",
              "      <td>33.247300</td>\n",
              "      <td>-84.835000</td>\n",
              "    </tr>\n",
              "    <tr>\n",
              "      <th>...</th>\n",
              "      <td>...</td>\n",
              "      <td>...</td>\n",
              "      <td>...</td>\n",
              "      <td>...</td>\n",
              "      <td>...</td>\n",
              "      <td>...</td>\n",
              "      <td>...</td>\n",
              "      <td>...</td>\n",
              "      <td>...</td>\n",
              "      <td>...</td>\n",
              "      <td>...</td>\n",
              "      <td>...</td>\n",
              "      <td>...</td>\n",
              "      <td>...</td>\n",
              "      <td>...</td>\n",
              "      <td>...</td>\n",
              "      <td>...</td>\n",
              "      <td>...</td>\n",
              "    </tr>\n",
              "    <tr>\n",
              "      <th>425650</th>\n",
              "      <td>wausau</td>\n",
              "      <td>5950</td>\n",
              "      <td>2011.0</td>\n",
              "      <td>NaN</td>\n",
              "      <td>2.0 liter turbo</td>\n",
              "      <td>good</td>\n",
              "      <td>4 cylinders</td>\n",
              "      <td>gas</td>\n",
              "      <td>154400.0</td>\n",
              "      <td>clean</td>\n",
              "      <td>automatic</td>\n",
              "      <td>fwd</td>\n",
              "      <td>mid-size</td>\n",
              "      <td>sedan</td>\n",
              "      <td>black</td>\n",
              "      <td>wi</td>\n",
              "      <td>44.825600</td>\n",
              "      <td>-89.377700</td>\n",
              "    </tr>\n",
              "    <tr>\n",
              "      <th>425730</th>\n",
              "      <td>wausau</td>\n",
              "      <td>11899</td>\n",
              "      <td>1991.0</td>\n",
              "      <td>NaN</td>\n",
              "      <td>Chev. Camaro Rs</td>\n",
              "      <td>excellent</td>\n",
              "      <td>8 cylinders</td>\n",
              "      <td>gas</td>\n",
              "      <td>42000.0</td>\n",
              "      <td>clean</td>\n",
              "      <td>automatic</td>\n",
              "      <td>rwd</td>\n",
              "      <td>mid-size</td>\n",
              "      <td>coupe</td>\n",
              "      <td>green</td>\n",
              "      <td>wi</td>\n",
              "      <td>44.655645</td>\n",
              "      <td>-90.151709</td>\n",
              "    </tr>\n",
              "    <tr>\n",
              "      <th>426127</th>\n",
              "      <td>wausau</td>\n",
              "      <td>5400</td>\n",
              "      <td>1995.0</td>\n",
              "      <td>NaN</td>\n",
              "      <td>oldsmobile cutlass supreme</td>\n",
              "      <td>good</td>\n",
              "      <td>6 cylinders</td>\n",
              "      <td>gas</td>\n",
              "      <td>82000.0</td>\n",
              "      <td>clean</td>\n",
              "      <td>automatic</td>\n",
              "      <td>fwd</td>\n",
              "      <td>mid-size</td>\n",
              "      <td>convertible</td>\n",
              "      <td>white</td>\n",
              "      <td>wi</td>\n",
              "      <td>44.375800</td>\n",
              "      <td>-89.806200</td>\n",
              "    </tr>\n",
              "    <tr>\n",
              "      <th>426550</th>\n",
              "      <td>wyoming</td>\n",
              "      <td>14000</td>\n",
              "      <td>2013.0</td>\n",
              "      <td>NaN</td>\n",
              "      <td>2013 scion fr-s</td>\n",
              "      <td>excellent</td>\n",
              "      <td>4 cylinders</td>\n",
              "      <td>gas</td>\n",
              "      <td>63000.0</td>\n",
              "      <td>clean</td>\n",
              "      <td>manual</td>\n",
              "      <td>rwd</td>\n",
              "      <td>compact</td>\n",
              "      <td>coupe</td>\n",
              "      <td>silver</td>\n",
              "      <td>wy</td>\n",
              "      <td>41.312281</td>\n",
              "      <td>-105.575259</td>\n",
              "    </tr>\n",
              "    <tr>\n",
              "      <th>426838</th>\n",
              "      <td>wyoming</td>\n",
              "      <td>21900</td>\n",
              "      <td>1920.0</td>\n",
              "      <td>NaN</td>\n",
              "      <td>Paige Glenbrook Touring</td>\n",
              "      <td>good</td>\n",
              "      <td>6 cylinders</td>\n",
              "      <td>gas</td>\n",
              "      <td>11065.0</td>\n",
              "      <td>clean</td>\n",
              "      <td>manual</td>\n",
              "      <td>rwd</td>\n",
              "      <td>full-size</td>\n",
              "      <td>other</td>\n",
              "      <td>black</td>\n",
              "      <td>wy</td>\n",
              "      <td>41.183600</td>\n",
              "      <td>-104.802300</td>\n",
              "    </tr>\n",
              "  </tbody>\n",
              "</table>\n",
              "<p>4062 rows × 18 columns</p>\n",
              "</div>\n",
              "      <button class=\"colab-df-convert\" onclick=\"convertToInteractive('df-39e441d3-442d-43fa-9844-72928a65f1d5')\"\n",
              "              title=\"Convert this dataframe to an interactive table.\"\n",
              "              style=\"display:none;\">\n",
              "        \n",
              "  <svg xmlns=\"http://www.w3.org/2000/svg\" height=\"24px\"viewBox=\"0 0 24 24\"\n",
              "       width=\"24px\">\n",
              "    <path d=\"M0 0h24v24H0V0z\" fill=\"none\"/>\n",
              "    <path d=\"M18.56 5.44l.94 2.06.94-2.06 2.06-.94-2.06-.94-.94-2.06-.94 2.06-2.06.94zm-11 1L8.5 8.5l.94-2.06 2.06-.94-2.06-.94L8.5 2.5l-.94 2.06-2.06.94zm10 10l.94 2.06.94-2.06 2.06-.94-2.06-.94-.94-2.06-.94 2.06-2.06.94z\"/><path d=\"M17.41 7.96l-1.37-1.37c-.4-.4-.92-.59-1.43-.59-.52 0-1.04.2-1.43.59L10.3 9.45l-7.72 7.72c-.78.78-.78 2.05 0 2.83L4 21.41c.39.39.9.59 1.41.59.51 0 1.02-.2 1.41-.59l7.78-7.78 2.81-2.81c.8-.78.8-2.07 0-2.86zM5.41 20L4 18.59l7.72-7.72 1.47 1.35L5.41 20z\"/>\n",
              "  </svg>\n",
              "      </button>\n",
              "      \n",
              "  <style>\n",
              "    .colab-df-container {\n",
              "      display:flex;\n",
              "      flex-wrap:wrap;\n",
              "      gap: 12px;\n",
              "    }\n",
              "\n",
              "    .colab-df-convert {\n",
              "      background-color: #E8F0FE;\n",
              "      border: none;\n",
              "      border-radius: 50%;\n",
              "      cursor: pointer;\n",
              "      display: none;\n",
              "      fill: #1967D2;\n",
              "      height: 32px;\n",
              "      padding: 0 0 0 0;\n",
              "      width: 32px;\n",
              "    }\n",
              "\n",
              "    .colab-df-convert:hover {\n",
              "      background-color: #E2EBFA;\n",
              "      box-shadow: 0px 1px 2px rgba(60, 64, 67, 0.3), 0px 1px 3px 1px rgba(60, 64, 67, 0.15);\n",
              "      fill: #174EA6;\n",
              "    }\n",
              "\n",
              "    [theme=dark] .colab-df-convert {\n",
              "      background-color: #3B4455;\n",
              "      fill: #D2E3FC;\n",
              "    }\n",
              "\n",
              "    [theme=dark] .colab-df-convert:hover {\n",
              "      background-color: #434B5C;\n",
              "      box-shadow: 0px 1px 3px 1px rgba(0, 0, 0, 0.15);\n",
              "      filter: drop-shadow(0px 1px 2px rgba(0, 0, 0, 0.3));\n",
              "      fill: #FFFFFF;\n",
              "    }\n",
              "  </style>\n",
              "\n",
              "      <script>\n",
              "        const buttonEl =\n",
              "          document.querySelector('#df-39e441d3-442d-43fa-9844-72928a65f1d5 button.colab-df-convert');\n",
              "        buttonEl.style.display =\n",
              "          google.colab.kernel.accessAllowed ? 'block' : 'none';\n",
              "\n",
              "        async function convertToInteractive(key) {\n",
              "          const element = document.querySelector('#df-39e441d3-442d-43fa-9844-72928a65f1d5');\n",
              "          const dataTable =\n",
              "            await google.colab.kernel.invokeFunction('convertToInteractive',\n",
              "                                                     [key], {});\n",
              "          if (!dataTable) return;\n",
              "\n",
              "          const docLinkHtml = 'Like what you see? Visit the ' +\n",
              "            '<a target=\"_blank\" href=https://colab.research.google.com/notebooks/data_table.ipynb>data table notebook</a>'\n",
              "            + ' to learn more about interactive tables.';\n",
              "          element.innerHTML = '';\n",
              "          dataTable['output_type'] = 'display_data';\n",
              "          await google.colab.output.renderOutput(dataTable, element);\n",
              "          const docLink = document.createElement('div');\n",
              "          docLink.innerHTML = docLinkHtml;\n",
              "          element.appendChild(docLink);\n",
              "        }\n",
              "      </script>\n",
              "    </div>\n",
              "  </div>\n",
              "  "
            ],
            "text/plain": [
              "            region  price    year  ... state        lat        long\n",
              "122         auburn   6800  2005.0  ...    al  32.833700  -85.119700\n",
              "137         auburn   2500  1966.0  ...    al  32.416900  -85.709400\n",
              "264     birmingham   2500  1987.0  ...    al  33.293200  -86.768000\n",
              "374     birmingham   9900  2016.0  ...    al  33.867300  -84.769900\n",
              "401     birmingham   6800  2005.0  ...    al  33.247300  -84.835000\n",
              "...            ...    ...     ...  ...   ...        ...         ...\n",
              "425650      wausau   5950  2011.0  ...    wi  44.825600  -89.377700\n",
              "425730      wausau  11899  1991.0  ...    wi  44.655645  -90.151709\n",
              "426127      wausau   5400  1995.0  ...    wi  44.375800  -89.806200\n",
              "426550     wyoming  14000  2013.0  ...    wy  41.312281 -105.575259\n",
              "426838     wyoming  21900  1920.0  ...    wy  41.183600 -104.802300\n",
              "\n",
              "[4062 rows x 18 columns]"
            ]
          },
          "metadata": {},
          "execution_count": 11
        }
      ]
    },
    {
      "cell_type": "markdown",
      "source": [
        "In retrospect fuzzy matching wouldn't result in a significant gain of data and thus not worth the effort. At a closer look it becomes apparent that the model column is used by many advertisers to note car manufacturers that aren't in the set of car manufactureres to choose from (e.g. Isuzu, Blue Bird, etc...)\n",
        "The safest way to handle the manufacturer would be to remove them as well.\n",
        "Since we face the same problem with model, we are going to remove them as well."
      ],
      "metadata": {
        "id": "2LnPQqlo9-x6"
      }
    },
    {
      "cell_type": "code",
      "source": [
        "df_impute = df_impute.dropna(subset=['manufacturer', 'model'])\n",
        "df_impute.shape[0]"
      ],
      "metadata": {
        "colab": {
          "base_uri": "https://localhost:8080/"
        },
        "id": "fT0T9-bq_cPR",
        "outputId": "9c688a0d-4351-46cd-9e60-44114791728d"
      },
      "execution_count": 12,
      "outputs": [
        {
          "output_type": "execute_result",
          "data": {
            "text/plain": [
              "79614"
            ]
          },
          "metadata": {},
          "execution_count": 12
        }
      ]
    },
    {
      "cell_type": "markdown",
      "source": [
        "By removing MVs both in 'manufacturer' and 'model' have a mere 600 row gain over the naive approach of removing every MV. Speaking from intuition these 600 entries probably woulnd't make a significant difference in the model, but for the sake of the use case we'll still impute the remaining data. "
      ],
      "metadata": {
        "id": "P6-PMrWz_4_r"
      }
    },
    {
      "cell_type": "markdown",
      "source": [
        "### Imputing MVs (< 5%)"
      ],
      "metadata": {
        "id": "7AaJmtyjhn81"
      }
    },
    {
      "cell_type": "code",
      "source": [
        "# calculate percentage of missing values per column\n",
        "percent_missing = df_impute.isnull().sum() * 100 / len(df_impute)\n",
        "missing_value_df = pd.DataFrame({'column_name': df_impute.columns,\n",
        "                                 'percent_missing': percent_missing,\n",
        "                                 'missing_values': df_impute.isnull().sum()}\n",
        "                                )\n",
        "missing_value_df.sort_values(['percent_missing'], ascending=False).transpose()"
      ],
      "metadata": {
        "colab": {
          "base_uri": "https://localhost:8080/",
          "height": 0
        },
        "id": "MwiWwQ_IA9PE",
        "outputId": "812aee76-9dc0-479d-cfc8-d3c5f8796821"
      },
      "execution_count": 13,
      "outputs": [
        {
          "output_type": "execute_result",
          "data": {
            "text/html": [
              "\n",
              "  <div id=\"df-330b4def-80dc-479a-bc80-0dd675d178ab\">\n",
              "    <div class=\"colab-df-container\">\n",
              "      <div>\n",
              "<style scoped>\n",
              "    .dataframe tbody tr th:only-of-type {\n",
              "        vertical-align: middle;\n",
              "    }\n",
              "\n",
              "    .dataframe tbody tr th {\n",
              "        vertical-align: top;\n",
              "    }\n",
              "\n",
              "    .dataframe thead th {\n",
              "        text-align: right;\n",
              "    }\n",
              "</style>\n",
              "<table border=\"1\" class=\"dataframe\">\n",
              "  <thead>\n",
              "    <tr style=\"text-align: right;\">\n",
              "      <th></th>\n",
              "      <th>odometer</th>\n",
              "      <th>long</th>\n",
              "      <th>lat</th>\n",
              "      <th>transmission</th>\n",
              "      <th>state</th>\n",
              "      <th>paint_color</th>\n",
              "      <th>type</th>\n",
              "      <th>size</th>\n",
              "      <th>drive</th>\n",
              "      <th>region</th>\n",
              "      <th>price</th>\n",
              "      <th>fuel</th>\n",
              "      <th>cylinders</th>\n",
              "      <th>condition</th>\n",
              "      <th>model</th>\n",
              "      <th>manufacturer</th>\n",
              "      <th>year</th>\n",
              "      <th>title_status</th>\n",
              "    </tr>\n",
              "  </thead>\n",
              "  <tbody>\n",
              "    <tr>\n",
              "      <th>column_name</th>\n",
              "      <td>odometer</td>\n",
              "      <td>long</td>\n",
              "      <td>lat</td>\n",
              "      <td>transmission</td>\n",
              "      <td>state</td>\n",
              "      <td>paint_color</td>\n",
              "      <td>type</td>\n",
              "      <td>size</td>\n",
              "      <td>drive</td>\n",
              "      <td>region</td>\n",
              "      <td>price</td>\n",
              "      <td>fuel</td>\n",
              "      <td>cylinders</td>\n",
              "      <td>condition</td>\n",
              "      <td>model</td>\n",
              "      <td>manufacturer</td>\n",
              "      <td>year</td>\n",
              "      <td>title_status</td>\n",
              "    </tr>\n",
              "    <tr>\n",
              "      <th>percent_missing</th>\n",
              "      <td>0.512473</td>\n",
              "      <td>0.224835</td>\n",
              "      <td>0.224835</td>\n",
              "      <td>0.0138167</td>\n",
              "      <td>0</td>\n",
              "      <td>0</td>\n",
              "      <td>0</td>\n",
              "      <td>0</td>\n",
              "      <td>0</td>\n",
              "      <td>0</td>\n",
              "      <td>0</td>\n",
              "      <td>0</td>\n",
              "      <td>0</td>\n",
              "      <td>0</td>\n",
              "      <td>0</td>\n",
              "      <td>0</td>\n",
              "      <td>0</td>\n",
              "      <td>0</td>\n",
              "    </tr>\n",
              "    <tr>\n",
              "      <th>missing_values</th>\n",
              "      <td>408</td>\n",
              "      <td>179</td>\n",
              "      <td>179</td>\n",
              "      <td>11</td>\n",
              "      <td>0</td>\n",
              "      <td>0</td>\n",
              "      <td>0</td>\n",
              "      <td>0</td>\n",
              "      <td>0</td>\n",
              "      <td>0</td>\n",
              "      <td>0</td>\n",
              "      <td>0</td>\n",
              "      <td>0</td>\n",
              "      <td>0</td>\n",
              "      <td>0</td>\n",
              "      <td>0</td>\n",
              "      <td>0</td>\n",
              "      <td>0</td>\n",
              "    </tr>\n",
              "  </tbody>\n",
              "</table>\n",
              "</div>\n",
              "      <button class=\"colab-df-convert\" onclick=\"convertToInteractive('df-330b4def-80dc-479a-bc80-0dd675d178ab')\"\n",
              "              title=\"Convert this dataframe to an interactive table.\"\n",
              "              style=\"display:none;\">\n",
              "        \n",
              "  <svg xmlns=\"http://www.w3.org/2000/svg\" height=\"24px\"viewBox=\"0 0 24 24\"\n",
              "       width=\"24px\">\n",
              "    <path d=\"M0 0h24v24H0V0z\" fill=\"none\"/>\n",
              "    <path d=\"M18.56 5.44l.94 2.06.94-2.06 2.06-.94-2.06-.94-.94-2.06-.94 2.06-2.06.94zm-11 1L8.5 8.5l.94-2.06 2.06-.94-2.06-.94L8.5 2.5l-.94 2.06-2.06.94zm10 10l.94 2.06.94-2.06 2.06-.94-2.06-.94-.94-2.06-.94 2.06-2.06.94z\"/><path d=\"M17.41 7.96l-1.37-1.37c-.4-.4-.92-.59-1.43-.59-.52 0-1.04.2-1.43.59L10.3 9.45l-7.72 7.72c-.78.78-.78 2.05 0 2.83L4 21.41c.39.39.9.59 1.41.59.51 0 1.02-.2 1.41-.59l7.78-7.78 2.81-2.81c.8-.78.8-2.07 0-2.86zM5.41 20L4 18.59l7.72-7.72 1.47 1.35L5.41 20z\"/>\n",
              "  </svg>\n",
              "      </button>\n",
              "      \n",
              "  <style>\n",
              "    .colab-df-container {\n",
              "      display:flex;\n",
              "      flex-wrap:wrap;\n",
              "      gap: 12px;\n",
              "    }\n",
              "\n",
              "    .colab-df-convert {\n",
              "      background-color: #E8F0FE;\n",
              "      border: none;\n",
              "      border-radius: 50%;\n",
              "      cursor: pointer;\n",
              "      display: none;\n",
              "      fill: #1967D2;\n",
              "      height: 32px;\n",
              "      padding: 0 0 0 0;\n",
              "      width: 32px;\n",
              "    }\n",
              "\n",
              "    .colab-df-convert:hover {\n",
              "      background-color: #E2EBFA;\n",
              "      box-shadow: 0px 1px 2px rgba(60, 64, 67, 0.3), 0px 1px 3px 1px rgba(60, 64, 67, 0.15);\n",
              "      fill: #174EA6;\n",
              "    }\n",
              "\n",
              "    [theme=dark] .colab-df-convert {\n",
              "      background-color: #3B4455;\n",
              "      fill: #D2E3FC;\n",
              "    }\n",
              "\n",
              "    [theme=dark] .colab-df-convert:hover {\n",
              "      background-color: #434B5C;\n",
              "      box-shadow: 0px 1px 3px 1px rgba(0, 0, 0, 0.15);\n",
              "      filter: drop-shadow(0px 1px 2px rgba(0, 0, 0, 0.3));\n",
              "      fill: #FFFFFF;\n",
              "    }\n",
              "  </style>\n",
              "\n",
              "      <script>\n",
              "        const buttonEl =\n",
              "          document.querySelector('#df-330b4def-80dc-479a-bc80-0dd675d178ab button.colab-df-convert');\n",
              "        buttonEl.style.display =\n",
              "          google.colab.kernel.accessAllowed ? 'block' : 'none';\n",
              "\n",
              "        async function convertToInteractive(key) {\n",
              "          const element = document.querySelector('#df-330b4def-80dc-479a-bc80-0dd675d178ab');\n",
              "          const dataTable =\n",
              "            await google.colab.kernel.invokeFunction('convertToInteractive',\n",
              "                                                     [key], {});\n",
              "          if (!dataTable) return;\n",
              "\n",
              "          const docLinkHtml = 'Like what you see? Visit the ' +\n",
              "            '<a target=\"_blank\" href=https://colab.research.google.com/notebooks/data_table.ipynb>data table notebook</a>'\n",
              "            + ' to learn more about interactive tables.';\n",
              "          element.innerHTML = '';\n",
              "          dataTable['output_type'] = 'display_data';\n",
              "          await google.colab.output.renderOutput(dataTable, element);\n",
              "          const docLink = document.createElement('div');\n",
              "          docLink.innerHTML = docLinkHtml;\n",
              "          element.appendChild(docLink);\n",
              "        }\n",
              "      </script>\n",
              "    </div>\n",
              "  </div>\n",
              "  "
            ],
            "text/plain": [
              "                 odometer      long       lat  ...  manufacturer  year  title_status\n",
              "column_name      odometer      long       lat  ...  manufacturer  year  title_status\n",
              "percent_missing  0.512473  0.224835  0.224835  ...             0     0             0\n",
              "missing_values        408       179       179  ...             0     0             0\n",
              "\n",
              "[3 rows x 18 columns]"
            ]
          },
          "metadata": {},
          "execution_count": 13
        }
      ]
    },
    {
      "cell_type": "markdown",
      "source": [
        "Use of SimpleImputer:\n",
        "  - **transmission**: most frequent value --> data very biased towards 'automatic'\n",
        "  - ~**fuel**: most frequent value --> data very biased towards 'gas'~\n",
        "  - ~**title_status**: most frequent value --> data very biased towards 'clean'~\n",
        "  - **longitude**: take median --> median not far away from mean with the guarantee that it's a populated area\n",
        "  - **latitude**: take median --> median not far away from mean with the guarantee that it's a populated area"
      ],
      "metadata": {
        "id": "4xRE4kMFoa_b"
      }
    },
    {
      "cell_type": "code",
      "source": [
        "# use of SimpleImputer:\n",
        "imp_median = SimpleImputer(strategy=\"median\") # imputes with median\n",
        "imp_freq = SimpleImputer(strategy='most_frequent') # imputes w/ most frequent value\n",
        "\n",
        "df_impute[[\"long\", \"lat\"]] = imp_median.fit_transform(df_impute[[\"long\", \"lat\"]])\n",
        "df_impute[[\"transmission\"]] = imp_freq.fit_transform(df_impute[[\"transmission\"]])\n",
        "\n",
        "df_impute.info()"
      ],
      "metadata": {
        "colab": {
          "base_uri": "https://localhost:8080/"
        },
        "id": "woc0CmAakqff",
        "outputId": "13183d88-0ba5-45cd-83cf-b4877621890f"
      },
      "execution_count": 14,
      "outputs": [
        {
          "output_type": "stream",
          "name": "stdout",
          "text": [
            "<class 'pandas.core.frame.DataFrame'>\n",
            "Int64Index: 79614 entries, 31 to 426836\n",
            "Data columns (total 18 columns):\n",
            " #   Column        Non-Null Count  Dtype  \n",
            "---  ------        --------------  -----  \n",
            " 0   region        79614 non-null  object \n",
            " 1   price         79614 non-null  int64  \n",
            " 2   year          79614 non-null  float64\n",
            " 3   manufacturer  79614 non-null  object \n",
            " 4   model         79614 non-null  object \n",
            " 5   condition     79614 non-null  object \n",
            " 6   cylinders     79614 non-null  object \n",
            " 7   fuel          79614 non-null  object \n",
            " 8   odometer      79206 non-null  float64\n",
            " 9   title_status  79614 non-null  object \n",
            " 10  transmission  79614 non-null  object \n",
            " 11  drive         79614 non-null  object \n",
            " 12  size          79614 non-null  object \n",
            " 13  type          79614 non-null  object \n",
            " 14  paint_color   79614 non-null  object \n",
            " 15  state         79614 non-null  object \n",
            " 16  lat           79614 non-null  float64\n",
            " 17  long          79614 non-null  float64\n",
            "dtypes: float64(4), int64(1), object(13)\n",
            "memory usage: 11.5+ MB\n"
          ]
        }
      ]
    },
    {
      "cell_type": "markdown",
      "source": [
        "Use of IterativeImputer:\n",
        "- **odometer**: numerical values that could relate to other features (e.g. age of car, price, condition, etc...) "
      ],
      "metadata": {
        "id": "y4u5Nxd75iK7"
      }
    },
    {
      "cell_type": "code",
      "source": [
        "# InterativeImputer\n",
        "imp_iter = IterativeImputer(random_state=0)\n",
        "df_impute[['price', 'year', 'odometer', 'lat', 'long']] = imp_iter.fit_transform(df_impute[['price', 'year', 'odometer', 'lat', 'long']])\n",
        "df_impute.info()"
      ],
      "metadata": {
        "colab": {
          "base_uri": "https://localhost:8080/"
        },
        "id": "cWzL_fb_3o3p",
        "outputId": "aab418fc-ebda-471c-ae68-ea5526d25958"
      },
      "execution_count": 15,
      "outputs": [
        {
          "output_type": "stream",
          "name": "stdout",
          "text": [
            "<class 'pandas.core.frame.DataFrame'>\n",
            "Int64Index: 79614 entries, 31 to 426836\n",
            "Data columns (total 18 columns):\n",
            " #   Column        Non-Null Count  Dtype  \n",
            "---  ------        --------------  -----  \n",
            " 0   region        79614 non-null  object \n",
            " 1   price         79614 non-null  float64\n",
            " 2   year          79614 non-null  float64\n",
            " 3   manufacturer  79614 non-null  object \n",
            " 4   model         79614 non-null  object \n",
            " 5   condition     79614 non-null  object \n",
            " 6   cylinders     79614 non-null  object \n",
            " 7   fuel          79614 non-null  object \n",
            " 8   odometer      79614 non-null  float64\n",
            " 9   title_status  79614 non-null  object \n",
            " 10  transmission  79614 non-null  object \n",
            " 11  drive         79614 non-null  object \n",
            " 12  size          79614 non-null  object \n",
            " 13  type          79614 non-null  object \n",
            " 14  paint_color   79614 non-null  object \n",
            " 15  state         79614 non-null  object \n",
            " 16  lat           79614 non-null  float64\n",
            " 17  long          79614 non-null  float64\n",
            "dtypes: float64(5), object(13)\n",
            "memory usage: 11.5+ MB\n"
          ]
        }
      ]
    },
    {
      "cell_type": "code",
      "source": [
        "df_impute.shape"
      ],
      "metadata": {
        "colab": {
          "base_uri": "https://localhost:8080/"
        },
        "id": "jTceeD-pNBlB",
        "outputId": "93945bb2-7c5c-4ea9-83d6-13b0438d7e01"
      },
      "execution_count": 16,
      "outputs": [
        {
          "output_type": "execute_result",
          "data": {
            "text/plain": [
              "(79614, 18)"
            ]
          },
          "metadata": {},
          "execution_count": 16
        }
      ]
    },
    {
      "cell_type": "markdown",
      "source": [
        "# Correlation between Features"
      ],
      "metadata": {
        "id": "pHTfxyhplXFL"
      }
    },
    {
      "cell_type": "markdown",
      "source": [
        "Now, we'll take a first look at the relationship of the features between each other with correlation matrices. This step may be repeated in the model specific data preprocessing at a later stage. For instance after one-hot encoding categorical featuers, removing outliers, and standartizing the data. This data transformation can impact the correlation between features in a positive way, such that relationships become apparent."
      ],
      "metadata": {
        "id": "bCbMC3xhlkAz"
      }
    },
    {
      "cell_type": "markdown",
      "source": [
        "## Correlation between Numerical Features"
      ],
      "metadata": {
        "id": "vyXETssVqGsF"
      }
    },
    {
      "cell_type": "code",
      "source": [
        "# select dataframe\n",
        "df_corr = df_impute\n",
        "#df_corr = df_no_mv\n",
        "\n",
        "corr_pearson = df_corr.corr(method='pearson')\n",
        "corr_spearman = df_corr.corr(method='spearman')\n",
        "corr_kendall = df_corr.corr(method='kendall')\n",
        "corr_list = [corr_pearson, corr_spearman, corr_kendall]"
      ],
      "metadata": {
        "id": "YQJoEBsNqaQ-"
      },
      "execution_count": 21,
      "outputs": []
    },
    {
      "cell_type": "code",
      "source": [
        "for elem in corr_list:\n",
        "  sns.heatmap(elem)\n",
        "  print(elem)\n",
        "  plt.show()"
      ],
      "metadata": {
        "colab": {
          "base_uri": "https://localhost:8080/",
          "height": 1000
        },
        "id": "gjjAstetrtbR",
        "outputId": "605be8c7-9f64-428a-bde1-795f3772eced"
      },
      "execution_count": 22,
      "outputs": [
        {
          "output_type": "stream",
          "name": "stdout",
          "text": [
            "             price      year  odometer       lat      long\n",
            "price     1.000000 -0.001532  0.000621  0.003988 -0.008064\n",
            "year     -0.001532  1.000000 -0.091026 -0.011859  0.030057\n",
            "odometer  0.000621 -0.091026  1.000000 -0.007807 -0.000515\n",
            "lat       0.003988 -0.011859 -0.007807  1.000000 -0.044281\n",
            "long     -0.008064  0.030057 -0.000515 -0.044281  1.000000\n"
          ]
        },
        {
          "output_type": "display_data",
          "data": {
            "image/png": "[encoded data removed]",
            "text/plain": [
              "<Figure size 432x288 with 2 Axes>"
            ]
          },
          "metadata": {}
        },
        {
          "output_type": "stream",
          "name": "stdout",
          "text": [
            "             price      year  odometer       lat      long\n",
            "price     1.000000  0.440853 -0.397796  0.051961 -0.033102\n",
            "year      0.440853  1.000000 -0.467986 -0.015646  0.004602\n",
            "odometer -0.397796 -0.467986  1.000000  0.004000 -0.022212\n",
            "lat       0.051961 -0.015646  0.004000  1.000000  0.080432\n",
            "long     -0.033102  0.004602 -0.022212  0.080432  1.000000\n"
          ]
        },
        {
          "output_type": "display_data",
          "data": {
            "image/png": "[encoded data removed]",
            "text/plain": [
              "<Figure size 432x288 with 2 Axes>"
            ]
          },
          "metadata": {}
        },
        {
          "output_type": "stream",
          "name": "stdout",
          "text": [
            "             price      year  odometer       lat      long\n",
            "price     1.000000  0.333795 -0.283643  0.035147 -0.022083\n",
            "year      0.333795  1.000000 -0.353843 -0.009956  0.002499\n",
            "odometer -0.283643 -0.353843  1.000000  0.002169 -0.015088\n",
            "lat       0.035147 -0.009956  0.002169  1.000000  0.059123\n",
            "long     -0.022083  0.002499 -0.015088  0.059123  1.000000\n"
          ]
        },
        {
          "output_type": "display_data",
          "data": {
            "image/png": "[encoded data removed]",
            "text/plain": [
              "<Figure size 432x288 with 2 Axes>"
            ]
          },
          "metadata": {}
        }
      ]
    },
    {
      "cell_type": "markdown",
      "source": [
        "The Pearson correlation coefficient shows us that there seems to be no apparent linear correlation between the features. After Standardizing the data (i.e. transforming features to have a mean of 0 and a standard deviation of 0) we could discover a linear correlation between features.\n",
        "After using the Spearman and Kendall rank correlation coefficient we notice that there is indeed some kind of correlation between some of the features, just not a linear one.\n",
        "None of these correlations turn out to be particurlarly strong, which is a problem for our modelling task, since none of the numeric features has the ability to discribe anotherone really well.\n",
        "The biggest (negative) correlation with -0.46 (Spearman) is between 'odometer' and 'year'. This makes inuitively sense since older cars tend to be driven for longer than newer cars. This correlation would be classified as a weak to moderate correlation. Same with 'year' and 'price', as well as 'price' and 'odometer'. These make intuitively sense as well.\n",
        "\n",
        "There doesn't seem to be a big difference between the dataset with and without imputed values. In future we'll use our imputed dataset."
      ],
      "metadata": {
        "id": "24IXJelQzzLy"
      }
    },
    {
      "cell_type": "code",
      "source": [
        "sns.pairplot(df_impute[['price', 'year', 'odometer', 'long', 'lat']].sample(n=10000))"
      ],
      "metadata": {
        "colab": {
          "base_uri": "https://localhost:8080/",
          "height": 918
        },
        "id": "3oZiWvNs7RGL",
        "outputId": "5cd52fbb-2839-40b6-8d37-b73013edf9c0"
      },
      "execution_count": 23,
      "outputs": [
        {
          "output_type": "execute_result",
          "data": {
            "text/plain": [
              "<seaborn.axisgrid.PairGrid at 0x7fd46634a250>"
            ]
          },
          "metadata": {},
          "execution_count": 23
        },
        {
          "output_type": "display_data",
          "data": {
            "image/png": "[encoded data removed]",
            "text/plain": [
              "<Figure size 900x900 with 30 Axes>"
            ]
          },
          "metadata": {}
        }
      ]
    },
    {
      "cell_type": "markdown",
      "source": [
        "This pairplot illustrates it very well that there are unrealistic outlier values that heavily skew the distribution of the data (e.g. cell of 'year' and 'price').\n",
        "Funny observation: The scatter plot of 'long' and 'lat' has the shape of the United States. Plotting the coordinates on a 2D plane shows basically the map where all car advertisments occured, which are scattered all over the US. These points outside of the 'US mainland' probably belong to the state of Hawaii and perhaps even Puerto Rico."
      ],
      "metadata": {
        "id": "I3PIWDAw-vpB"
      }
    },
    {
      "cell_type": "markdown",
      "source": [
        "# Save File"
      ],
      "metadata": {
        "id": "4AKqzeuWDOyh"
      }
    },
    {
      "cell_type": "markdown",
      "source": [
        "Now that we did a first data preprocessing pass and further explored our data, we'll save our cleaned up dataset for use in our next tasks."
      ],
      "metadata": {
        "id": "rr-12u3uDROY"
      }
    },
    {
      "cell_type": "code",
      "source": [
        "df_impute.to_pickle('./df_impute')"
      ],
      "metadata": {
        "id": "lhYMeokNDyg2"
      },
      "execution_count": 24,
      "outputs": []
    },
    {
      "cell_type": "markdown",
      "source": [
        "#Alles darunter in model file (also don't forget emergency dataset porsche)"
      ],
      "metadata": {
        "id": "JR2j0E4huHtz"
      }
    },
    {
      "cell_type": "markdown",
      "source": [
        "# Outlier Handling"
      ],
      "metadata": {
        "id": "wZr-inLkOxjf"
      }
    },
    {
      "cell_type": "markdown",
      "source": [
        "Next we'll remove datapoints that could potentially skew our model training, which would result in worse model performance. At this point we need to split"
      ],
      "metadata": {
        "id": "bKqZfinaPOQY"
      }
    },
    {
      "cell_type": "markdown",
      "source": [
        "# Distribution of Data and its Skewness"
      ],
      "metadata": {
        "id": "U_7DxqPDrSSE"
      }
    },
    {
      "cell_type": "markdown",
      "source": [
        "As is seen over 90% of the data has been removed, but for this data exploration task we'll prioritize data cleanliness over data quantity.\n",
        "\n",
        "By doing correlation matrices, we can figure out features that aren't needed for some analytical tasks like linear regression"
      ],
      "metadata": {
        "id": "88oaGYFqrayj"
      }
    },
    {
      "cell_type": "markdown",
      "source": [
        "#Correlation between Features"
      ],
      "metadata": {
        "id": "z8cVRG8HrE2S"
      }
    },
    {
      "cell_type": "markdown",
      "source": [
        "To make out correlation between features we first need to convert categorical features into numerical ones. One way to do this is by one-hot encoding all categorical values"
      ],
      "metadata": {
        "id": "OODLicZKrcap"
      }
    },
    {
      "cell_type": "code",
      "source": [
        ""
      ],
      "metadata": {
        "id": "2ns81WuBrRhk"
      },
      "execution_count": null,
      "outputs": []
    },
    {
      "cell_type": "markdown",
      "source": [
        "# Pairplot\n",
        "https://colab.research.google.com/github/kirenz/modern-statistics/blob/main/10a-application-model-exploration.ipynb#scrollTo=cachNh6HBCvh"
      ],
      "metadata": {
        "id": "QMCfoSd7r3hp"
      }
    },
    {
      "cell_type": "code",
      "source": [
        ""
      ],
      "metadata": {
        "id": "2RvUhj39r6h3"
      },
      "execution_count": null,
      "outputs": []
    }
  ]
}